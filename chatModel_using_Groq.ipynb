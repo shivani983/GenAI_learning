{
  "nbformat": 4,
  "nbformat_minor": 0,
  "metadata": {
    "colab": {
      "provenance": [],
      "gpuType": "T4",
      "authorship_tag": "ABX9TyM7q+XDd6mX/Ut/B2BzQcyA",
      "include_colab_link": true
    },
    "kernelspec": {
      "name": "python3",
      "display_name": "Python 3"
    },
    "language_info": {
      "name": "python"
    },
    "accelerator": "GPU"
  },
  "cells": [
    {
      "cell_type": "markdown",
      "metadata": {
        "id": "view-in-github",
        "colab_type": "text"
      },
      "source": [
        "<a href=\"https://colab.research.google.com/github/shivani983/GenAI_learning/blob/main/chatModel_using_Groq.ipynb\" target=\"_parent\"><img src=\"https://colab.research.google.com/assets/colab-badge.svg\" alt=\"Open In Colab\"/></a>"
      ]
    },
    {
      "cell_type": "code",
      "execution_count": 1,
      "metadata": {
        "colab": {
          "base_uri": "https://localhost:8080/"
        },
        "collapsed": true,
        "id": "AHn-1tAc8V0r",
        "outputId": "d6b2e4c4-33f2-40b9-c874-8a7d20c7cac2"
      },
      "outputs": [
        {
          "output_type": "stream",
          "name": "stdout",
          "text": [
            "Requirement already satisfied: langchain in /usr/local/lib/python3.11/dist-packages (0.3.23)\n",
            "Requirement already satisfied: langchain-core<1.0.0,>=0.3.51 in /usr/local/lib/python3.11/dist-packages (from langchain) (0.3.51)\n",
            "Requirement already satisfied: langchain-text-splitters<1.0.0,>=0.3.8 in /usr/local/lib/python3.11/dist-packages (from langchain) (0.3.8)\n",
            "Requirement already satisfied: langsmith<0.4,>=0.1.17 in /usr/local/lib/python3.11/dist-packages (from langchain) (0.3.28)\n",
            "Requirement already satisfied: pydantic<3.0.0,>=2.7.4 in /usr/local/lib/python3.11/dist-packages (from langchain) (2.11.3)\n",
            "Requirement already satisfied: SQLAlchemy<3,>=1.4 in /usr/local/lib/python3.11/dist-packages (from langchain) (2.0.40)\n",
            "Requirement already satisfied: requests<3,>=2 in /usr/local/lib/python3.11/dist-packages (from langchain) (2.32.3)\n",
            "Requirement already satisfied: PyYAML>=5.3 in /usr/local/lib/python3.11/dist-packages (from langchain) (6.0.2)\n",
            "Requirement already satisfied: tenacity!=8.4.0,<10.0.0,>=8.1.0 in /usr/local/lib/python3.11/dist-packages (from langchain-core<1.0.0,>=0.3.51->langchain) (9.1.2)\n",
            "Requirement already satisfied: jsonpatch<2.0,>=1.33 in /usr/local/lib/python3.11/dist-packages (from langchain-core<1.0.0,>=0.3.51->langchain) (1.33)\n",
            "Requirement already satisfied: packaging<25,>=23.2 in /usr/local/lib/python3.11/dist-packages (from langchain-core<1.0.0,>=0.3.51->langchain) (24.2)\n",
            "Requirement already satisfied: typing-extensions>=4.7 in /usr/local/lib/python3.11/dist-packages (from langchain-core<1.0.0,>=0.3.51->langchain) (4.13.1)\n",
            "Requirement already satisfied: httpx<1,>=0.23.0 in /usr/local/lib/python3.11/dist-packages (from langsmith<0.4,>=0.1.17->langchain) (0.28.1)\n",
            "Requirement already satisfied: orjson<4.0.0,>=3.9.14 in /usr/local/lib/python3.11/dist-packages (from langsmith<0.4,>=0.1.17->langchain) (3.10.16)\n",
            "Requirement already satisfied: requests-toolbelt<2.0.0,>=1.0.0 in /usr/local/lib/python3.11/dist-packages (from langsmith<0.4,>=0.1.17->langchain) (1.0.0)\n",
            "Requirement already satisfied: zstandard<0.24.0,>=0.23.0 in /usr/local/lib/python3.11/dist-packages (from langsmith<0.4,>=0.1.17->langchain) (0.23.0)\n",
            "Requirement already satisfied: annotated-types>=0.6.0 in /usr/local/lib/python3.11/dist-packages (from pydantic<3.0.0,>=2.7.4->langchain) (0.7.0)\n",
            "Requirement already satisfied: pydantic-core==2.33.1 in /usr/local/lib/python3.11/dist-packages (from pydantic<3.0.0,>=2.7.4->langchain) (2.33.1)\n",
            "Requirement already satisfied: typing-inspection>=0.4.0 in /usr/local/lib/python3.11/dist-packages (from pydantic<3.0.0,>=2.7.4->langchain) (0.4.0)\n",
            "Requirement already satisfied: charset-normalizer<4,>=2 in /usr/local/lib/python3.11/dist-packages (from requests<3,>=2->langchain) (3.4.1)\n",
            "Requirement already satisfied: idna<4,>=2.5 in /usr/local/lib/python3.11/dist-packages (from requests<3,>=2->langchain) (3.10)\n",
            "Requirement already satisfied: urllib3<3,>=1.21.1 in /usr/local/lib/python3.11/dist-packages (from requests<3,>=2->langchain) (2.3.0)\n",
            "Requirement already satisfied: certifi>=2017.4.17 in /usr/local/lib/python3.11/dist-packages (from requests<3,>=2->langchain) (2025.1.31)\n",
            "Requirement already satisfied: greenlet>=1 in /usr/local/lib/python3.11/dist-packages (from SQLAlchemy<3,>=1.4->langchain) (3.1.1)\n",
            "Requirement already satisfied: anyio in /usr/local/lib/python3.11/dist-packages (from httpx<1,>=0.23.0->langsmith<0.4,>=0.1.17->langchain) (4.9.0)\n",
            "Requirement already satisfied: httpcore==1.* in /usr/local/lib/python3.11/dist-packages (from httpx<1,>=0.23.0->langsmith<0.4,>=0.1.17->langchain) (1.0.7)\n",
            "Requirement already satisfied: h11<0.15,>=0.13 in /usr/local/lib/python3.11/dist-packages (from httpcore==1.*->httpx<1,>=0.23.0->langsmith<0.4,>=0.1.17->langchain) (0.14.0)\n",
            "Requirement already satisfied: jsonpointer>=1.9 in /usr/local/lib/python3.11/dist-packages (from jsonpatch<2.0,>=1.33->langchain-core<1.0.0,>=0.3.51->langchain) (3.0.0)\n",
            "Requirement already satisfied: sniffio>=1.1 in /usr/local/lib/python3.11/dist-packages (from anyio->httpx<1,>=0.23.0->langsmith<0.4,>=0.1.17->langchain) (1.3.1)\n",
            "Requirement already satisfied: openai in /usr/local/lib/python3.11/dist-packages (1.72.0)\n",
            "Requirement already satisfied: anyio<5,>=3.5.0 in /usr/local/lib/python3.11/dist-packages (from openai) (4.9.0)\n",
            "Requirement already satisfied: distro<2,>=1.7.0 in /usr/local/lib/python3.11/dist-packages (from openai) (1.9.0)\n",
            "Requirement already satisfied: httpx<1,>=0.23.0 in /usr/local/lib/python3.11/dist-packages (from openai) (0.28.1)\n",
            "Requirement already satisfied: jiter<1,>=0.4.0 in /usr/local/lib/python3.11/dist-packages (from openai) (0.9.0)\n",
            "Requirement already satisfied: pydantic<3,>=1.9.0 in /usr/local/lib/python3.11/dist-packages (from openai) (2.11.3)\n",
            "Requirement already satisfied: sniffio in /usr/local/lib/python3.11/dist-packages (from openai) (1.3.1)\n",
            "Requirement already satisfied: tqdm>4 in /usr/local/lib/python3.11/dist-packages (from openai) (4.67.1)\n",
            "Requirement already satisfied: typing-extensions<5,>=4.11 in /usr/local/lib/python3.11/dist-packages (from openai) (4.13.1)\n",
            "Requirement already satisfied: idna>=2.8 in /usr/local/lib/python3.11/dist-packages (from anyio<5,>=3.5.0->openai) (3.10)\n",
            "Requirement already satisfied: certifi in /usr/local/lib/python3.11/dist-packages (from httpx<1,>=0.23.0->openai) (2025.1.31)\n",
            "Requirement already satisfied: httpcore==1.* in /usr/local/lib/python3.11/dist-packages (from httpx<1,>=0.23.0->openai) (1.0.7)\n",
            "Requirement already satisfied: h11<0.15,>=0.13 in /usr/local/lib/python3.11/dist-packages (from httpcore==1.*->httpx<1,>=0.23.0->openai) (0.14.0)\n",
            "Requirement already satisfied: annotated-types>=0.6.0 in /usr/local/lib/python3.11/dist-packages (from pydantic<3,>=1.9.0->openai) (0.7.0)\n",
            "Requirement already satisfied: pydantic-core==2.33.1 in /usr/local/lib/python3.11/dist-packages (from pydantic<3,>=1.9.0->openai) (2.33.1)\n",
            "Requirement already satisfied: typing-inspection>=0.4.0 in /usr/local/lib/python3.11/dist-packages (from pydantic<3,>=1.9.0->openai) (0.4.0)\n",
            "Requirement already satisfied: huggingface_hub in /usr/local/lib/python3.11/dist-packages (0.30.2)\n",
            "Requirement already satisfied: filelock in /usr/local/lib/python3.11/dist-packages (from huggingface_hub) (3.18.0)\n",
            "Requirement already satisfied: fsspec>=2023.5.0 in /usr/local/lib/python3.11/dist-packages (from huggingface_hub) (2025.3.2)\n",
            "Requirement already satisfied: packaging>=20.9 in /usr/local/lib/python3.11/dist-packages (from huggingface_hub) (24.2)\n",
            "Requirement already satisfied: pyyaml>=5.1 in /usr/local/lib/python3.11/dist-packages (from huggingface_hub) (6.0.2)\n",
            "Requirement already satisfied: requests in /usr/local/lib/python3.11/dist-packages (from huggingface_hub) (2.32.3)\n",
            "Requirement already satisfied: tqdm>=4.42.1 in /usr/local/lib/python3.11/dist-packages (from huggingface_hub) (4.67.1)\n",
            "Requirement already satisfied: typing-extensions>=3.7.4.3 in /usr/local/lib/python3.11/dist-packages (from huggingface_hub) (4.13.1)\n",
            "Requirement already satisfied: charset-normalizer<4,>=2 in /usr/local/lib/python3.11/dist-packages (from requests->huggingface_hub) (3.4.1)\n",
            "Requirement already satisfied: idna<4,>=2.5 in /usr/local/lib/python3.11/dist-packages (from requests->huggingface_hub) (3.10)\n",
            "Requirement already satisfied: urllib3<3,>=1.21.1 in /usr/local/lib/python3.11/dist-packages (from requests->huggingface_hub) (2.3.0)\n",
            "Requirement already satisfied: certifi>=2017.4.17 in /usr/local/lib/python3.11/dist-packages (from requests->huggingface_hub) (2025.1.31)\n",
            "Collecting faiss-cpu\n",
            "  Downloading faiss_cpu-1.10.0-cp311-cp311-manylinux_2_28_x86_64.whl.metadata (4.4 kB)\n",
            "Requirement already satisfied: numpy<3.0,>=1.25.0 in /usr/local/lib/python3.11/dist-packages (from faiss-cpu) (2.0.2)\n",
            "Requirement already satisfied: packaging in /usr/local/lib/python3.11/dist-packages (from faiss-cpu) (24.2)\n",
            "Downloading faiss_cpu-1.10.0-cp311-cp311-manylinux_2_28_x86_64.whl (30.7 MB)\n",
            "\u001b[2K   \u001b[90m━━━━━━━━━━━━━━━━━━━━━━━━━━━━━━━━━━━━━━━━\u001b[0m \u001b[32m30.7/30.7 MB\u001b[0m \u001b[31m47.0 MB/s\u001b[0m eta \u001b[36m0:00:00\u001b[0m\n",
            "\u001b[?25hInstalling collected packages: faiss-cpu\n",
            "Successfully installed faiss-cpu-1.10.0\n",
            "Collecting chromadb\n",
            "  Downloading chromadb-1.0.4-cp39-abi3-manylinux_2_17_x86_64.manylinux2014_x86_64.whl.metadata (6.9 kB)\n",
            "Collecting build>=1.0.3 (from chromadb)\n",
            "  Downloading build-1.2.2.post1-py3-none-any.whl.metadata (6.5 kB)\n",
            "Requirement already satisfied: pydantic>=1.9 in /usr/local/lib/python3.11/dist-packages (from chromadb) (2.11.3)\n",
            "Collecting chroma-hnswlib==0.7.6 (from chromadb)\n",
            "  Downloading chroma_hnswlib-0.7.6-cp311-cp311-manylinux_2_17_x86_64.manylinux2014_x86_64.whl.metadata (252 bytes)\n",
            "Collecting fastapi==0.115.9 (from chromadb)\n",
            "  Downloading fastapi-0.115.9-py3-none-any.whl.metadata (27 kB)\n",
            "Collecting uvicorn>=0.18.3 (from uvicorn[standard]>=0.18.3->chromadb)\n",
            "  Downloading uvicorn-0.34.1-py3-none-any.whl.metadata (6.5 kB)\n",
            "Requirement already satisfied: numpy>=1.22.5 in /usr/local/lib/python3.11/dist-packages (from chromadb) (2.0.2)\n",
            "Collecting posthog>=2.4.0 (from chromadb)\n",
            "  Downloading posthog-3.25.0-py2.py3-none-any.whl.metadata (3.0 kB)\n",
            "Requirement already satisfied: typing-extensions>=4.5.0 in /usr/local/lib/python3.11/dist-packages (from chromadb) (4.13.1)\n",
            "Collecting onnxruntime>=1.14.1 (from chromadb)\n",
            "  Downloading onnxruntime-1.21.0-cp311-cp311-manylinux_2_27_x86_64.manylinux_2_28_x86_64.whl.metadata (4.5 kB)\n",
            "Requirement already satisfied: opentelemetry-api>=1.2.0 in /usr/local/lib/python3.11/dist-packages (from chromadb) (1.31.1)\n",
            "Collecting opentelemetry-exporter-otlp-proto-grpc>=1.2.0 (from chromadb)\n",
            "  Downloading opentelemetry_exporter_otlp_proto_grpc-1.32.1-py3-none-any.whl.metadata (2.5 kB)\n",
            "Collecting opentelemetry-instrumentation-fastapi>=0.41b0 (from chromadb)\n",
            "  Downloading opentelemetry_instrumentation_fastapi-0.53b1-py3-none-any.whl.metadata (2.2 kB)\n",
            "Requirement already satisfied: opentelemetry-sdk>=1.2.0 in /usr/local/lib/python3.11/dist-packages (from chromadb) (1.31.1)\n",
            "Requirement already satisfied: tokenizers>=0.13.2 in /usr/local/lib/python3.11/dist-packages (from chromadb) (0.21.1)\n",
            "Collecting pypika>=0.48.9 (from chromadb)\n",
            "  Downloading PyPika-0.48.9.tar.gz (67 kB)\n",
            "\u001b[2K     \u001b[90m━━━━━━━━━━━━━━━━━━━━━━━━━━━━━━━━━━━━━━━━\u001b[0m \u001b[32m67.3/67.3 kB\u001b[0m \u001b[31m7.0 MB/s\u001b[0m eta \u001b[36m0:00:00\u001b[0m\n",
            "\u001b[?25h  Installing build dependencies ... \u001b[?25l\u001b[?25hdone\n",
            "  Getting requirements to build wheel ... \u001b[?25l\u001b[?25hdone\n",
            "  Preparing metadata (pyproject.toml) ... \u001b[?25l\u001b[?25hdone\n",
            "Requirement already satisfied: tqdm>=4.65.0 in /usr/local/lib/python3.11/dist-packages (from chromadb) (4.67.1)\n",
            "Collecting overrides>=7.3.1 (from chromadb)\n",
            "  Downloading overrides-7.7.0-py3-none-any.whl.metadata (5.8 kB)\n",
            "Requirement already satisfied: importlib-resources in /usr/local/lib/python3.11/dist-packages (from chromadb) (6.5.2)\n",
            "Requirement already satisfied: grpcio>=1.58.0 in /usr/local/lib/python3.11/dist-packages (from chromadb) (1.71.0)\n",
            "Collecting bcrypt>=4.0.1 (from chromadb)\n",
            "  Downloading bcrypt-4.3.0-cp39-abi3-manylinux_2_34_x86_64.whl.metadata (10 kB)\n",
            "Requirement already satisfied: typer>=0.9.0 in /usr/local/lib/python3.11/dist-packages (from chromadb) (0.15.2)\n",
            "Collecting kubernetes>=28.1.0 (from chromadb)\n",
            "  Downloading kubernetes-32.0.1-py2.py3-none-any.whl.metadata (1.7 kB)\n",
            "Requirement already satisfied: tenacity>=8.2.3 in /usr/local/lib/python3.11/dist-packages (from chromadb) (9.1.2)\n",
            "Requirement already satisfied: pyyaml>=6.0.0 in /usr/local/lib/python3.11/dist-packages (from chromadb) (6.0.2)\n",
            "Collecting mmh3>=4.0.1 (from chromadb)\n",
            "  Downloading mmh3-5.1.0-cp311-cp311-manylinux_2_5_x86_64.manylinux1_x86_64.manylinux_2_17_x86_64.manylinux2014_x86_64.whl.metadata (16 kB)\n",
            "Requirement already satisfied: orjson>=3.9.12 in /usr/local/lib/python3.11/dist-packages (from chromadb) (3.10.16)\n",
            "Requirement already satisfied: httpx>=0.27.0 in /usr/local/lib/python3.11/dist-packages (from chromadb) (0.28.1)\n",
            "Requirement already satisfied: rich>=10.11.0 in /usr/local/lib/python3.11/dist-packages (from chromadb) (13.9.4)\n",
            "Requirement already satisfied: jsonschema>=4.19.0 in /usr/local/lib/python3.11/dist-packages (from chromadb) (4.23.0)\n",
            "Collecting starlette<0.46.0,>=0.40.0 (from fastapi==0.115.9->chromadb)\n",
            "  Downloading starlette-0.45.3-py3-none-any.whl.metadata (6.3 kB)\n",
            "Requirement already satisfied: packaging>=19.1 in /usr/local/lib/python3.11/dist-packages (from build>=1.0.3->chromadb) (24.2)\n",
            "Collecting pyproject_hooks (from build>=1.0.3->chromadb)\n",
            "  Downloading pyproject_hooks-1.2.0-py3-none-any.whl.metadata (1.3 kB)\n",
            "Requirement already satisfied: anyio in /usr/local/lib/python3.11/dist-packages (from httpx>=0.27.0->chromadb) (4.9.0)\n",
            "Requirement already satisfied: certifi in /usr/local/lib/python3.11/dist-packages (from httpx>=0.27.0->chromadb) (2025.1.31)\n",
            "Requirement already satisfied: httpcore==1.* in /usr/local/lib/python3.11/dist-packages (from httpx>=0.27.0->chromadb) (1.0.7)\n",
            "Requirement already satisfied: idna in /usr/local/lib/python3.11/dist-packages (from httpx>=0.27.0->chromadb) (3.10)\n",
            "Requirement already satisfied: h11<0.15,>=0.13 in /usr/local/lib/python3.11/dist-packages (from httpcore==1.*->httpx>=0.27.0->chromadb) (0.14.0)\n",
            "Requirement already satisfied: attrs>=22.2.0 in /usr/local/lib/python3.11/dist-packages (from jsonschema>=4.19.0->chromadb) (25.3.0)\n",
            "Requirement already satisfied: jsonschema-specifications>=2023.03.6 in /usr/local/lib/python3.11/dist-packages (from jsonschema>=4.19.0->chromadb) (2024.10.1)\n",
            "Requirement already satisfied: referencing>=0.28.4 in /usr/local/lib/python3.11/dist-packages (from jsonschema>=4.19.0->chromadb) (0.36.2)\n",
            "Requirement already satisfied: rpds-py>=0.7.1 in /usr/local/lib/python3.11/dist-packages (from jsonschema>=4.19.0->chromadb) (0.24.0)\n",
            "Requirement already satisfied: six>=1.9.0 in /usr/local/lib/python3.11/dist-packages (from kubernetes>=28.1.0->chromadb) (1.17.0)\n",
            "Requirement already satisfied: python-dateutil>=2.5.3 in /usr/local/lib/python3.11/dist-packages (from kubernetes>=28.1.0->chromadb) (2.8.2)\n",
            "Requirement already satisfied: google-auth>=1.0.1 in /usr/local/lib/python3.11/dist-packages (from kubernetes>=28.1.0->chromadb) (2.38.0)\n",
            "Requirement already satisfied: websocket-client!=0.40.0,!=0.41.*,!=0.42.*,>=0.32.0 in /usr/local/lib/python3.11/dist-packages (from kubernetes>=28.1.0->chromadb) (1.8.0)\n",
            "Requirement already satisfied: requests in /usr/local/lib/python3.11/dist-packages (from kubernetes>=28.1.0->chromadb) (2.32.3)\n",
            "Requirement already satisfied: requests-oauthlib in /usr/local/lib/python3.11/dist-packages (from kubernetes>=28.1.0->chromadb) (2.0.0)\n",
            "Requirement already satisfied: oauthlib>=3.2.2 in /usr/local/lib/python3.11/dist-packages (from kubernetes>=28.1.0->chromadb) (3.2.2)\n",
            "Requirement already satisfied: urllib3>=1.24.2 in /usr/local/lib/python3.11/dist-packages (from kubernetes>=28.1.0->chromadb) (2.3.0)\n",
            "Collecting durationpy>=0.7 (from kubernetes>=28.1.0->chromadb)\n",
            "  Downloading durationpy-0.9-py3-none-any.whl.metadata (338 bytes)\n",
            "Collecting coloredlogs (from onnxruntime>=1.14.1->chromadb)\n",
            "  Downloading coloredlogs-15.0.1-py2.py3-none-any.whl.metadata (12 kB)\n",
            "Requirement already satisfied: flatbuffers in /usr/local/lib/python3.11/dist-packages (from onnxruntime>=1.14.1->chromadb) (25.2.10)\n",
            "Requirement already satisfied: protobuf in /usr/local/lib/python3.11/dist-packages (from onnxruntime>=1.14.1->chromadb) (5.29.4)\n",
            "Requirement already satisfied: sympy in /usr/local/lib/python3.11/dist-packages (from onnxruntime>=1.14.1->chromadb) (1.13.1)\n",
            "Requirement already satisfied: deprecated>=1.2.6 in /usr/local/lib/python3.11/dist-packages (from opentelemetry-api>=1.2.0->chromadb) (1.2.18)\n",
            "Requirement already satisfied: importlib-metadata<8.7.0,>=6.0 in /usr/local/lib/python3.11/dist-packages (from opentelemetry-api>=1.2.0->chromadb) (8.6.1)\n",
            "Requirement already satisfied: googleapis-common-protos~=1.52 in /usr/local/lib/python3.11/dist-packages (from opentelemetry-exporter-otlp-proto-grpc>=1.2.0->chromadb) (1.69.2)\n",
            "Collecting opentelemetry-exporter-otlp-proto-common==1.32.1 (from opentelemetry-exporter-otlp-proto-grpc>=1.2.0->chromadb)\n",
            "  Downloading opentelemetry_exporter_otlp_proto_common-1.32.1-py3-none-any.whl.metadata (1.9 kB)\n",
            "Collecting opentelemetry-proto==1.32.1 (from opentelemetry-exporter-otlp-proto-grpc>=1.2.0->chromadb)\n",
            "  Downloading opentelemetry_proto-1.32.1-py3-none-any.whl.metadata (2.4 kB)\n",
            "Collecting opentelemetry-sdk>=1.2.0 (from chromadb)\n",
            "  Downloading opentelemetry_sdk-1.32.1-py3-none-any.whl.metadata (1.6 kB)\n",
            "Collecting opentelemetry-instrumentation-asgi==0.53b1 (from opentelemetry-instrumentation-fastapi>=0.41b0->chromadb)\n",
            "  Downloading opentelemetry_instrumentation_asgi-0.53b1-py3-none-any.whl.metadata (2.1 kB)\n",
            "Collecting opentelemetry-instrumentation==0.53b1 (from opentelemetry-instrumentation-fastapi>=0.41b0->chromadb)\n",
            "  Downloading opentelemetry_instrumentation-0.53b1-py3-none-any.whl.metadata (6.8 kB)\n",
            "Collecting opentelemetry-semantic-conventions==0.53b1 (from opentelemetry-instrumentation-fastapi>=0.41b0->chromadb)\n",
            "  Downloading opentelemetry_semantic_conventions-0.53b1-py3-none-any.whl.metadata (2.5 kB)\n",
            "Collecting opentelemetry-util-http==0.53b1 (from opentelemetry-instrumentation-fastapi>=0.41b0->chromadb)\n",
            "  Downloading opentelemetry_util_http-0.53b1-py3-none-any.whl.metadata (2.6 kB)\n",
            "Requirement already satisfied: wrapt<2.0.0,>=1.0.0 in /usr/local/lib/python3.11/dist-packages (from opentelemetry-instrumentation==0.53b1->opentelemetry-instrumentation-fastapi>=0.41b0->chromadb) (1.17.2)\n",
            "Collecting asgiref~=3.0 (from opentelemetry-instrumentation-asgi==0.53b1->opentelemetry-instrumentation-fastapi>=0.41b0->chromadb)\n",
            "  Downloading asgiref-3.8.1-py3-none-any.whl.metadata (9.3 kB)\n",
            "Collecting opentelemetry-api>=1.2.0 (from chromadb)\n",
            "  Downloading opentelemetry_api-1.32.1-py3-none-any.whl.metadata (1.6 kB)\n",
            "Collecting monotonic>=1.5 (from posthog>=2.4.0->chromadb)\n",
            "  Downloading monotonic-1.6-py2.py3-none-any.whl.metadata (1.5 kB)\n",
            "Collecting backoff>=1.10.0 (from posthog>=2.4.0->chromadb)\n",
            "  Downloading backoff-2.2.1-py3-none-any.whl.metadata (14 kB)\n",
            "Requirement already satisfied: distro>=1.5.0 in /usr/local/lib/python3.11/dist-packages (from posthog>=2.4.0->chromadb) (1.9.0)\n",
            "Requirement already satisfied: annotated-types>=0.6.0 in /usr/local/lib/python3.11/dist-packages (from pydantic>=1.9->chromadb) (0.7.0)\n",
            "Requirement already satisfied: pydantic-core==2.33.1 in /usr/local/lib/python3.11/dist-packages (from pydantic>=1.9->chromadb) (2.33.1)\n",
            "Requirement already satisfied: typing-inspection>=0.4.0 in /usr/local/lib/python3.11/dist-packages (from pydantic>=1.9->chromadb) (0.4.0)\n",
            "Requirement already satisfied: markdown-it-py>=2.2.0 in /usr/local/lib/python3.11/dist-packages (from rich>=10.11.0->chromadb) (3.0.0)\n",
            "Requirement already satisfied: pygments<3.0.0,>=2.13.0 in /usr/local/lib/python3.11/dist-packages (from rich>=10.11.0->chromadb) (2.18.0)\n",
            "Requirement already satisfied: huggingface-hub<1.0,>=0.16.4 in /usr/local/lib/python3.11/dist-packages (from tokenizers>=0.13.2->chromadb) (0.30.2)\n",
            "Requirement already satisfied: click>=8.0.0 in /usr/local/lib/python3.11/dist-packages (from typer>=0.9.0->chromadb) (8.1.8)\n",
            "Requirement already satisfied: shellingham>=1.3.0 in /usr/local/lib/python3.11/dist-packages (from typer>=0.9.0->chromadb) (1.5.4)\n",
            "Collecting httptools>=0.6.3 (from uvicorn[standard]>=0.18.3->chromadb)\n",
            "  Downloading httptools-0.6.4-cp311-cp311-manylinux_2_5_x86_64.manylinux1_x86_64.manylinux_2_17_x86_64.manylinux2014_x86_64.whl.metadata (3.6 kB)\n",
            "Collecting python-dotenv>=0.13 (from uvicorn[standard]>=0.18.3->chromadb)\n",
            "  Downloading python_dotenv-1.1.0-py3-none-any.whl.metadata (24 kB)\n",
            "Collecting uvloop!=0.15.0,!=0.15.1,>=0.14.0 (from uvicorn[standard]>=0.18.3->chromadb)\n",
            "  Downloading uvloop-0.21.0-cp311-cp311-manylinux_2_17_x86_64.manylinux2014_x86_64.whl.metadata (4.9 kB)\n",
            "Collecting watchfiles>=0.13 (from uvicorn[standard]>=0.18.3->chromadb)\n",
            "  Downloading watchfiles-1.0.5-cp311-cp311-manylinux_2_17_x86_64.manylinux2014_x86_64.whl.metadata (4.9 kB)\n",
            "Requirement already satisfied: websockets>=10.4 in /usr/local/lib/python3.11/dist-packages (from uvicorn[standard]>=0.18.3->chromadb) (15.0.1)\n",
            "Requirement already satisfied: cachetools<6.0,>=2.0.0 in /usr/local/lib/python3.11/dist-packages (from google-auth>=1.0.1->kubernetes>=28.1.0->chromadb) (5.5.2)\n",
            "Requirement already satisfied: pyasn1-modules>=0.2.1 in /usr/local/lib/python3.11/dist-packages (from google-auth>=1.0.1->kubernetes>=28.1.0->chromadb) (0.4.2)\n",
            "Requirement already satisfied: rsa<5,>=3.1.4 in /usr/local/lib/python3.11/dist-packages (from google-auth>=1.0.1->kubernetes>=28.1.0->chromadb) (4.9)\n",
            "Requirement already satisfied: filelock in /usr/local/lib/python3.11/dist-packages (from huggingface-hub<1.0,>=0.16.4->tokenizers>=0.13.2->chromadb) (3.18.0)\n",
            "Requirement already satisfied: fsspec>=2023.5.0 in /usr/local/lib/python3.11/dist-packages (from huggingface-hub<1.0,>=0.16.4->tokenizers>=0.13.2->chromadb) (2025.3.2)\n",
            "Requirement already satisfied: zipp>=3.20 in /usr/local/lib/python3.11/dist-packages (from importlib-metadata<8.7.0,>=6.0->opentelemetry-api>=1.2.0->chromadb) (3.21.0)\n",
            "Requirement already satisfied: mdurl~=0.1 in /usr/local/lib/python3.11/dist-packages (from markdown-it-py>=2.2.0->rich>=10.11.0->chromadb) (0.1.2)\n",
            "Requirement already satisfied: charset-normalizer<4,>=2 in /usr/local/lib/python3.11/dist-packages (from requests->kubernetes>=28.1.0->chromadb) (3.4.1)\n",
            "Requirement already satisfied: sniffio>=1.1 in /usr/local/lib/python3.11/dist-packages (from anyio->httpx>=0.27.0->chromadb) (1.3.1)\n",
            "Collecting humanfriendly>=9.1 (from coloredlogs->onnxruntime>=1.14.1->chromadb)\n",
            "  Downloading humanfriendly-10.0-py2.py3-none-any.whl.metadata (9.2 kB)\n",
            "Requirement already satisfied: mpmath<1.4,>=1.1.0 in /usr/local/lib/python3.11/dist-packages (from sympy->onnxruntime>=1.14.1->chromadb) (1.3.0)\n",
            "Requirement already satisfied: pyasn1<0.7.0,>=0.6.1 in /usr/local/lib/python3.11/dist-packages (from pyasn1-modules>=0.2.1->google-auth>=1.0.1->kubernetes>=28.1.0->chromadb) (0.6.1)\n",
            "Downloading chromadb-1.0.4-cp39-abi3-manylinux_2_17_x86_64.manylinux2014_x86_64.whl (18.3 MB)\n",
            "\u001b[2K   \u001b[90m━━━━━━━━━━━━━━━━━━━━━━━━━━━━━━━━━━━━━━━━\u001b[0m \u001b[32m18.3/18.3 MB\u001b[0m \u001b[31m47.9 MB/s\u001b[0m eta \u001b[36m0:00:00\u001b[0m\n",
            "\u001b[?25hDownloading chroma_hnswlib-0.7.6-cp311-cp311-manylinux_2_17_x86_64.manylinux2014_x86_64.whl (2.4 MB)\n",
            "\u001b[2K   \u001b[90m━━━━━━━━━━━━━━━━━━━━━━━━━━━━━━━━━━━━━━━━\u001b[0m \u001b[32m2.4/2.4 MB\u001b[0m \u001b[31m26.6 MB/s\u001b[0m eta \u001b[36m0:00:00\u001b[0m\n",
            "\u001b[?25hDownloading fastapi-0.115.9-py3-none-any.whl (94 kB)\n",
            "\u001b[2K   \u001b[90m━━━━━━━━━━━━━━━━━━━━━━━━━━━━━━━━━━━━━━━━\u001b[0m \u001b[32m94.9/94.9 kB\u001b[0m \u001b[31m4.6 MB/s\u001b[0m eta \u001b[36m0:00:00\u001b[0m\n",
            "\u001b[?25hDownloading bcrypt-4.3.0-cp39-abi3-manylinux_2_34_x86_64.whl (284 kB)\n",
            "\u001b[2K   \u001b[90m━━━━━━━━━━━━━━━━━━━━━━━━━━━━━━━━━━━━━━━━\u001b[0m \u001b[32m284.2/284.2 kB\u001b[0m \u001b[31m21.7 MB/s\u001b[0m eta \u001b[36m0:00:00\u001b[0m\n",
            "\u001b[?25hDownloading build-1.2.2.post1-py3-none-any.whl (22 kB)\n",
            "Downloading kubernetes-32.0.1-py2.py3-none-any.whl (2.0 MB)\n",
            "\u001b[2K   \u001b[90m━━━━━━━━━━━━━━━━━━━━━━━━━━━━━━━━━━━━━━━━\u001b[0m \u001b[32m2.0/2.0 MB\u001b[0m \u001b[31m47.2 MB/s\u001b[0m eta \u001b[36m0:00:00\u001b[0m\n",
            "\u001b[?25hDownloading mmh3-5.1.0-cp311-cp311-manylinux_2_5_x86_64.manylinux1_x86_64.manylinux_2_17_x86_64.manylinux2014_x86_64.whl (101 kB)\n",
            "\u001b[2K   \u001b[90m━━━━━━━━━━━━━━━━━━━━━━━━━━━━━━━━━━━━━━━━\u001b[0m \u001b[32m101.6/101.6 kB\u001b[0m \u001b[31m6.3 MB/s\u001b[0m eta \u001b[36m0:00:00\u001b[0m\n",
            "\u001b[?25hDownloading onnxruntime-1.21.0-cp311-cp311-manylinux_2_27_x86_64.manylinux_2_28_x86_64.whl (16.0 MB)\n",
            "\u001b[2K   \u001b[90m━━━━━━━━━━━━━━━━━━━━━━━━━━━━━━━━━━━━━━━━\u001b[0m \u001b[32m16.0/16.0 MB\u001b[0m \u001b[31m64.3 MB/s\u001b[0m eta \u001b[36m0:00:00\u001b[0m\n",
            "\u001b[?25hDownloading opentelemetry_exporter_otlp_proto_grpc-1.32.1-py3-none-any.whl (18 kB)\n",
            "Downloading opentelemetry_exporter_otlp_proto_common-1.32.1-py3-none-any.whl (18 kB)\n",
            "Downloading opentelemetry_proto-1.32.1-py3-none-any.whl (55 kB)\n",
            "\u001b[2K   \u001b[90m━━━━━━━━━━━━━━━━━━━━━━━━━━━━━━━━━━━━━━━━\u001b[0m \u001b[32m55.9/55.9 kB\u001b[0m \u001b[31m5.0 MB/s\u001b[0m eta \u001b[36m0:00:00\u001b[0m\n",
            "\u001b[?25hDownloading opentelemetry_instrumentation_fastapi-0.53b1-py3-none-any.whl (12 kB)\n",
            "Downloading opentelemetry_instrumentation-0.53b1-py3-none-any.whl (30 kB)\n",
            "Downloading opentelemetry_instrumentation_asgi-0.53b1-py3-none-any.whl (16 kB)\n",
            "Downloading opentelemetry_semantic_conventions-0.53b1-py3-none-any.whl (188 kB)\n",
            "\u001b[2K   \u001b[90m━━━━━━━━━━━━━━━━━━━━━━━━━━━━━━━━━━━━━━━━\u001b[0m \u001b[32m188.4/188.4 kB\u001b[0m \u001b[31m17.4 MB/s\u001b[0m eta \u001b[36m0:00:00\u001b[0m\n",
            "\u001b[?25hDownloading opentelemetry_api-1.32.1-py3-none-any.whl (65 kB)\n",
            "\u001b[2K   \u001b[90m━━━━━━━━━━━━━━━━━━━━━━━━━━━━━━━━━━━━━━━━\u001b[0m \u001b[32m65.3/65.3 kB\u001b[0m \u001b[31m6.5 MB/s\u001b[0m eta \u001b[36m0:00:00\u001b[0m\n",
            "\u001b[?25hDownloading opentelemetry_util_http-0.53b1-py3-none-any.whl (7.3 kB)\n",
            "Downloading opentelemetry_sdk-1.32.1-py3-none-any.whl (118 kB)\n",
            "\u001b[2K   \u001b[90m━━━━━━━━━━━━━━━━━━━━━━━━━━━━━━━━━━━━━━━━\u001b[0m \u001b[32m119.0/119.0 kB\u001b[0m \u001b[31m10.0 MB/s\u001b[0m eta \u001b[36m0:00:00\u001b[0m\n",
            "\u001b[?25hDownloading overrides-7.7.0-py3-none-any.whl (17 kB)\n",
            "Downloading posthog-3.25.0-py2.py3-none-any.whl (89 kB)\n",
            "\u001b[2K   \u001b[90m━━━━━━━━━━━━━━━━━━━━━━━━━━━━━━━━━━━━━━━━\u001b[0m \u001b[32m89.1/89.1 kB\u001b[0m \u001b[31m8.5 MB/s\u001b[0m eta \u001b[36m0:00:00\u001b[0m\n",
            "\u001b[?25hDownloading uvicorn-0.34.1-py3-none-any.whl (62 kB)\n",
            "\u001b[2K   \u001b[90m━━━━━━━━━━━━━━━━━━━━━━━━━━━━━━━━━━━━━━━━\u001b[0m \u001b[32m62.4/62.4 kB\u001b[0m \u001b[31m5.6 MB/s\u001b[0m eta \u001b[36m0:00:00\u001b[0m\n",
            "\u001b[?25hDownloading backoff-2.2.1-py3-none-any.whl (15 kB)\n",
            "Downloading durationpy-0.9-py3-none-any.whl (3.5 kB)\n",
            "Downloading httptools-0.6.4-cp311-cp311-manylinux_2_5_x86_64.manylinux1_x86_64.manylinux_2_17_x86_64.manylinux2014_x86_64.whl (459 kB)\n",
            "\u001b[2K   \u001b[90m━━━━━━━━━━━━━━━━━━━━━━━━━━━━━━━━━━━━━━━━\u001b[0m \u001b[32m459.8/459.8 kB\u001b[0m \u001b[31m27.0 MB/s\u001b[0m eta \u001b[36m0:00:00\u001b[0m\n",
            "\u001b[?25hDownloading monotonic-1.6-py2.py3-none-any.whl (8.2 kB)\n",
            "Downloading python_dotenv-1.1.0-py3-none-any.whl (20 kB)\n",
            "Downloading starlette-0.45.3-py3-none-any.whl (71 kB)\n",
            "\u001b[2K   \u001b[90m━━━━━━━━━━━━━━━━━━━━━━━━━━━━━━━━━━━━━━━━\u001b[0m \u001b[32m71.5/71.5 kB\u001b[0m \u001b[31m6.6 MB/s\u001b[0m eta \u001b[36m0:00:00\u001b[0m\n",
            "\u001b[?25hDownloading uvloop-0.21.0-cp311-cp311-manylinux_2_17_x86_64.manylinux2014_x86_64.whl (4.0 MB)\n",
            "\u001b[2K   \u001b[90m━━━━━━━━━━━━━━━━━━━━━━━━━━━━━━━━━━━━━━━━\u001b[0m \u001b[32m4.0/4.0 MB\u001b[0m \u001b[31m55.0 MB/s\u001b[0m eta \u001b[36m0:00:00\u001b[0m\n",
            "\u001b[?25hDownloading watchfiles-1.0.5-cp311-cp311-manylinux_2_17_x86_64.manylinux2014_x86_64.whl (454 kB)\n",
            "\u001b[2K   \u001b[90m━━━━━━━━━━━━━━━━━━━━━━━━━━━━━━━━━━━━━━━━\u001b[0m \u001b[32m454.8/454.8 kB\u001b[0m \u001b[31m24.8 MB/s\u001b[0m eta \u001b[36m0:00:00\u001b[0m\n",
            "\u001b[?25hDownloading coloredlogs-15.0.1-py2.py3-none-any.whl (46 kB)\n",
            "\u001b[2K   \u001b[90m━━━━━━━━━━━━━━━━━━━━━━━━━━━━━━━━━━━━━━━━\u001b[0m \u001b[32m46.0/46.0 kB\u001b[0m \u001b[31m4.0 MB/s\u001b[0m eta \u001b[36m0:00:00\u001b[0m\n",
            "\u001b[?25hDownloading pyproject_hooks-1.2.0-py3-none-any.whl (10 kB)\n",
            "Downloading asgiref-3.8.1-py3-none-any.whl (23 kB)\n",
            "Downloading humanfriendly-10.0-py2.py3-none-any.whl (86 kB)\n",
            "\u001b[2K   \u001b[90m━━━━━━━━━━━━━━━━━━━━━━━━━━━━━━━━━━━━━━━━\u001b[0m \u001b[32m86.8/86.8 kB\u001b[0m \u001b[31m5.8 MB/s\u001b[0m eta \u001b[36m0:00:00\u001b[0m\n",
            "\u001b[?25hBuilding wheels for collected packages: pypika\n",
            "  Building wheel for pypika (pyproject.toml) ... \u001b[?25l\u001b[?25hdone\n",
            "  Created wheel for pypika: filename=pypika-0.48.9-py2.py3-none-any.whl size=53800 sha256=f1f3ed057e45e8d271ac121b7c2832b5b8103ca67078597e4d4384a74c443e67\n",
            "  Stored in directory: /root/.cache/pip/wheels/a3/01/bd/4c40ceb9d5354160cb186dcc153360f4ab7eb23e2b24daf96d\n",
            "Successfully built pypika\n",
            "Installing collected packages: pypika, monotonic, durationpy, uvloop, uvicorn, python-dotenv, pyproject_hooks, overrides, opentelemetry-util-http, opentelemetry-proto, mmh3, humanfriendly, httptools, chroma-hnswlib, bcrypt, backoff, asgiref, watchfiles, starlette, posthog, opentelemetry-exporter-otlp-proto-common, opentelemetry-api, coloredlogs, build, opentelemetry-semantic-conventions, onnxruntime, kubernetes, fastapi, opentelemetry-sdk, opentelemetry-instrumentation, opentelemetry-instrumentation-asgi, opentelemetry-exporter-otlp-proto-grpc, opentelemetry-instrumentation-fastapi, chromadb\n",
            "  Attempting uninstall: opentelemetry-api\n",
            "    Found existing installation: opentelemetry-api 1.31.1\n",
            "    Uninstalling opentelemetry-api-1.31.1:\n",
            "      Successfully uninstalled opentelemetry-api-1.31.1\n",
            "  Attempting uninstall: opentelemetry-semantic-conventions\n",
            "    Found existing installation: opentelemetry-semantic-conventions 0.52b1\n",
            "    Uninstalling opentelemetry-semantic-conventions-0.52b1:\n",
            "      Successfully uninstalled opentelemetry-semantic-conventions-0.52b1\n",
            "  Attempting uninstall: opentelemetry-sdk\n",
            "    Found existing installation: opentelemetry-sdk 1.31.1\n",
            "    Uninstalling opentelemetry-sdk-1.31.1:\n",
            "      Successfully uninstalled opentelemetry-sdk-1.31.1\n",
            "Successfully installed asgiref-3.8.1 backoff-2.2.1 bcrypt-4.3.0 build-1.2.2.post1 chroma-hnswlib-0.7.6 chromadb-1.0.4 coloredlogs-15.0.1 durationpy-0.9 fastapi-0.115.9 httptools-0.6.4 humanfriendly-10.0 kubernetes-32.0.1 mmh3-5.1.0 monotonic-1.6 onnxruntime-1.21.0 opentelemetry-api-1.32.1 opentelemetry-exporter-otlp-proto-common-1.32.1 opentelemetry-exporter-otlp-proto-grpc-1.32.1 opentelemetry-instrumentation-0.53b1 opentelemetry-instrumentation-asgi-0.53b1 opentelemetry-instrumentation-fastapi-0.53b1 opentelemetry-proto-1.32.1 opentelemetry-sdk-1.32.1 opentelemetry-semantic-conventions-0.53b1 opentelemetry-util-http-0.53b1 overrides-7.7.0 posthog-3.25.0 pypika-0.48.9 pyproject_hooks-1.2.0 python-dotenv-1.1.0 starlette-0.45.3 uvicorn-0.34.1 uvloop-0.21.0 watchfiles-1.0.5\n",
            "Collecting tiktoken\n",
            "  Downloading tiktoken-0.9.0-cp311-cp311-manylinux_2_17_x86_64.manylinux2014_x86_64.whl.metadata (6.7 kB)\n",
            "Requirement already satisfied: regex>=2022.1.18 in /usr/local/lib/python3.11/dist-packages (from tiktoken) (2024.11.6)\n",
            "Requirement already satisfied: requests>=2.26.0 in /usr/local/lib/python3.11/dist-packages (from tiktoken) (2.32.3)\n",
            "Requirement already satisfied: charset-normalizer<4,>=2 in /usr/local/lib/python3.11/dist-packages (from requests>=2.26.0->tiktoken) (3.4.1)\n",
            "Requirement already satisfied: idna<4,>=2.5 in /usr/local/lib/python3.11/dist-packages (from requests>=2.26.0->tiktoken) (3.10)\n",
            "Requirement already satisfied: urllib3<3,>=1.21.1 in /usr/local/lib/python3.11/dist-packages (from requests>=2.26.0->tiktoken) (2.3.0)\n",
            "Requirement already satisfied: certifi>=2017.4.17 in /usr/local/lib/python3.11/dist-packages (from requests>=2.26.0->tiktoken) (2025.1.31)\n",
            "Downloading tiktoken-0.9.0-cp311-cp311-manylinux_2_17_x86_64.manylinux2014_x86_64.whl (1.2 MB)\n",
            "\u001b[2K   \u001b[90m━━━━━━━━━━━━━━━━━━━━━━━━━━━━━━━━━━━━━━━━\u001b[0m \u001b[32m1.2/1.2 MB\u001b[0m \u001b[31m33.1 MB/s\u001b[0m eta \u001b[36m0:00:00\u001b[0m\n",
            "\u001b[?25hInstalling collected packages: tiktoken\n",
            "Successfully installed tiktoken-0.9.0\n",
            "Collecting PyPDF2\n",
            "  Downloading pypdf2-3.0.1-py3-none-any.whl.metadata (6.8 kB)\n",
            "Collecting pdfminer.six\n",
            "  Downloading pdfminer_six-20250327-py3-none-any.whl.metadata (4.1 kB)\n",
            "Requirement already satisfied: charset-normalizer>=2.0.0 in /usr/local/lib/python3.11/dist-packages (from pdfminer.six) (3.4.1)\n",
            "Requirement already satisfied: cryptography>=36.0.0 in /usr/local/lib/python3.11/dist-packages (from pdfminer.six) (43.0.3)\n",
            "Requirement already satisfied: cffi>=1.12 in /usr/local/lib/python3.11/dist-packages (from cryptography>=36.0.0->pdfminer.six) (1.17.1)\n",
            "Requirement already satisfied: pycparser in /usr/local/lib/python3.11/dist-packages (from cffi>=1.12->cryptography>=36.0.0->pdfminer.six) (2.22)\n",
            "Downloading pypdf2-3.0.1-py3-none-any.whl (232 kB)\n",
            "\u001b[2K   \u001b[90m━━━━━━━━━━━━━━━━━━━━━━━━━━━━━━━━━━━━━━━━\u001b[0m \u001b[32m232.6/232.6 kB\u001b[0m \u001b[31m8.2 MB/s\u001b[0m eta \u001b[36m0:00:00\u001b[0m\n",
            "\u001b[?25hDownloading pdfminer_six-20250327-py3-none-any.whl (5.6 MB)\n",
            "\u001b[2K   \u001b[90m━━━━━━━━━━━━━━━━━━━━━━━━━━━━━━━━━━━━━━━━\u001b[0m \u001b[32m5.6/5.6 MB\u001b[0m \u001b[31m111.5 MB/s\u001b[0m eta \u001b[36m0:00:00\u001b[0m\n",
            "\u001b[?25hInstalling collected packages: PyPDF2, pdfminer.six\n",
            "Successfully installed PyPDF2-3.0.1 pdfminer.six-20250327\n",
            "Requirement already satisfied: beautifulsoup4 in /usr/local/lib/python3.11/dist-packages (4.13.3)\n",
            "Requirement already satisfied: requests in /usr/local/lib/python3.11/dist-packages (2.32.3)\n",
            "Requirement already satisfied: soupsieve>1.2 in /usr/local/lib/python3.11/dist-packages (from beautifulsoup4) (2.6)\n",
            "Requirement already satisfied: typing-extensions>=4.0.0 in /usr/local/lib/python3.11/dist-packages (from beautifulsoup4) (4.13.1)\n",
            "Requirement already satisfied: charset-normalizer<4,>=2 in /usr/local/lib/python3.11/dist-packages (from requests) (3.4.1)\n",
            "Requirement already satisfied: idna<4,>=2.5 in /usr/local/lib/python3.11/dist-packages (from requests) (3.10)\n",
            "Requirement already satisfied: urllib3<3,>=1.21.1 in /usr/local/lib/python3.11/dist-packages (from requests) (2.3.0)\n",
            "Requirement already satisfied: certifi>=2017.4.17 in /usr/local/lib/python3.11/dist-packages (from requests) (2025.1.31)\n",
            "Requirement already satisfied: python-dotenv in /usr/local/lib/python3.11/dist-packages (1.1.0)\n",
            "Collecting gradio\n",
            "  Downloading gradio-5.25.2-py3-none-any.whl.metadata (16 kB)\n",
            "Collecting aiofiles<25.0,>=22.0 (from gradio)\n",
            "  Downloading aiofiles-24.1.0-py3-none-any.whl.metadata (10 kB)\n",
            "Requirement already satisfied: anyio<5.0,>=3.0 in /usr/local/lib/python3.11/dist-packages (from gradio) (4.9.0)\n",
            "Requirement already satisfied: fastapi<1.0,>=0.115.2 in /usr/local/lib/python3.11/dist-packages (from gradio) (0.115.9)\n",
            "Collecting ffmpy (from gradio)\n",
            "  Downloading ffmpy-0.5.0-py3-none-any.whl.metadata (3.0 kB)\n",
            "Collecting gradio-client==1.8.0 (from gradio)\n",
            "  Downloading gradio_client-1.8.0-py3-none-any.whl.metadata (7.1 kB)\n",
            "Collecting groovy~=0.1 (from gradio)\n",
            "  Downloading groovy-0.1.2-py3-none-any.whl.metadata (6.1 kB)\n",
            "Requirement already satisfied: httpx>=0.24.1 in /usr/local/lib/python3.11/dist-packages (from gradio) (0.28.1)\n",
            "Requirement already satisfied: huggingface-hub>=0.28.1 in /usr/local/lib/python3.11/dist-packages (from gradio) (0.30.2)\n",
            "Requirement already satisfied: jinja2<4.0 in /usr/local/lib/python3.11/dist-packages (from gradio) (3.1.6)\n",
            "Requirement already satisfied: markupsafe<4.0,>=2.0 in /usr/local/lib/python3.11/dist-packages (from gradio) (3.0.2)\n",
            "Requirement already satisfied: numpy<3.0,>=1.0 in /usr/local/lib/python3.11/dist-packages (from gradio) (2.0.2)\n",
            "Requirement already satisfied: orjson~=3.0 in /usr/local/lib/python3.11/dist-packages (from gradio) (3.10.16)\n",
            "Requirement already satisfied: packaging in /usr/local/lib/python3.11/dist-packages (from gradio) (24.2)\n",
            "Requirement already satisfied: pandas<3.0,>=1.0 in /usr/local/lib/python3.11/dist-packages (from gradio) (2.2.2)\n",
            "Requirement already satisfied: pillow<12.0,>=8.0 in /usr/local/lib/python3.11/dist-packages (from gradio) (11.1.0)\n",
            "Requirement already satisfied: pydantic<2.12,>=2.0 in /usr/local/lib/python3.11/dist-packages (from gradio) (2.11.3)\n",
            "Collecting pydub (from gradio)\n",
            "  Downloading pydub-0.25.1-py2.py3-none-any.whl.metadata (1.4 kB)\n",
            "Collecting python-multipart>=0.0.18 (from gradio)\n",
            "  Downloading python_multipart-0.0.20-py3-none-any.whl.metadata (1.8 kB)\n",
            "Requirement already satisfied: pyyaml<7.0,>=5.0 in /usr/local/lib/python3.11/dist-packages (from gradio) (6.0.2)\n",
            "Collecting ruff>=0.9.3 (from gradio)\n",
            "  Downloading ruff-0.11.5-py3-none-manylinux_2_17_x86_64.manylinux2014_x86_64.whl.metadata (25 kB)\n",
            "Collecting safehttpx<0.2.0,>=0.1.6 (from gradio)\n",
            "  Downloading safehttpx-0.1.6-py3-none-any.whl.metadata (4.2 kB)\n",
            "Collecting semantic-version~=2.0 (from gradio)\n",
            "  Downloading semantic_version-2.10.0-py2.py3-none-any.whl.metadata (9.7 kB)\n",
            "Requirement already satisfied: starlette<1.0,>=0.40.0 in /usr/local/lib/python3.11/dist-packages (from gradio) (0.45.3)\n",
            "Collecting tomlkit<0.14.0,>=0.12.0 (from gradio)\n",
            "  Downloading tomlkit-0.13.2-py3-none-any.whl.metadata (2.7 kB)\n",
            "Requirement already satisfied: typer<1.0,>=0.12 in /usr/local/lib/python3.11/dist-packages (from gradio) (0.15.2)\n",
            "Requirement already satisfied: typing-extensions~=4.0 in /usr/local/lib/python3.11/dist-packages (from gradio) (4.13.1)\n",
            "Requirement already satisfied: uvicorn>=0.14.0 in /usr/local/lib/python3.11/dist-packages (from gradio) (0.34.1)\n",
            "Requirement already satisfied: fsspec in /usr/local/lib/python3.11/dist-packages (from gradio-client==1.8.0->gradio) (2025.3.2)\n",
            "Requirement already satisfied: websockets<16.0,>=10.0 in /usr/local/lib/python3.11/dist-packages (from gradio-client==1.8.0->gradio) (15.0.1)\n",
            "Requirement already satisfied: idna>=2.8 in /usr/local/lib/python3.11/dist-packages (from anyio<5.0,>=3.0->gradio) (3.10)\n",
            "Requirement already satisfied: sniffio>=1.1 in /usr/local/lib/python3.11/dist-packages (from anyio<5.0,>=3.0->gradio) (1.3.1)\n",
            "Requirement already satisfied: certifi in /usr/local/lib/python3.11/dist-packages (from httpx>=0.24.1->gradio) (2025.1.31)\n",
            "Requirement already satisfied: httpcore==1.* in /usr/local/lib/python3.11/dist-packages (from httpx>=0.24.1->gradio) (1.0.7)\n",
            "Requirement already satisfied: h11<0.15,>=0.13 in /usr/local/lib/python3.11/dist-packages (from httpcore==1.*->httpx>=0.24.1->gradio) (0.14.0)\n",
            "Requirement already satisfied: filelock in /usr/local/lib/python3.11/dist-packages (from huggingface-hub>=0.28.1->gradio) (3.18.0)\n",
            "Requirement already satisfied: requests in /usr/local/lib/python3.11/dist-packages (from huggingface-hub>=0.28.1->gradio) (2.32.3)\n",
            "Requirement already satisfied: tqdm>=4.42.1 in /usr/local/lib/python3.11/dist-packages (from huggingface-hub>=0.28.1->gradio) (4.67.1)\n",
            "Requirement already satisfied: python-dateutil>=2.8.2 in /usr/local/lib/python3.11/dist-packages (from pandas<3.0,>=1.0->gradio) (2.8.2)\n",
            "Requirement already satisfied: pytz>=2020.1 in /usr/local/lib/python3.11/dist-packages (from pandas<3.0,>=1.0->gradio) (2025.2)\n",
            "Requirement already satisfied: tzdata>=2022.7 in /usr/local/lib/python3.11/dist-packages (from pandas<3.0,>=1.0->gradio) (2025.2)\n",
            "Requirement already satisfied: annotated-types>=0.6.0 in /usr/local/lib/python3.11/dist-packages (from pydantic<2.12,>=2.0->gradio) (0.7.0)\n",
            "Requirement already satisfied: pydantic-core==2.33.1 in /usr/local/lib/python3.11/dist-packages (from pydantic<2.12,>=2.0->gradio) (2.33.1)\n",
            "Requirement already satisfied: typing-inspection>=0.4.0 in /usr/local/lib/python3.11/dist-packages (from pydantic<2.12,>=2.0->gradio) (0.4.0)\n",
            "Requirement already satisfied: click>=8.0.0 in /usr/local/lib/python3.11/dist-packages (from typer<1.0,>=0.12->gradio) (8.1.8)\n",
            "Requirement already satisfied: shellingham>=1.3.0 in /usr/local/lib/python3.11/dist-packages (from typer<1.0,>=0.12->gradio) (1.5.4)\n",
            "Requirement already satisfied: rich>=10.11.0 in /usr/local/lib/python3.11/dist-packages (from typer<1.0,>=0.12->gradio) (13.9.4)\n",
            "Requirement already satisfied: six>=1.5 in /usr/local/lib/python3.11/dist-packages (from python-dateutil>=2.8.2->pandas<3.0,>=1.0->gradio) (1.17.0)\n",
            "Requirement already satisfied: markdown-it-py>=2.2.0 in /usr/local/lib/python3.11/dist-packages (from rich>=10.11.0->typer<1.0,>=0.12->gradio) (3.0.0)\n",
            "Requirement already satisfied: pygments<3.0.0,>=2.13.0 in /usr/local/lib/python3.11/dist-packages (from rich>=10.11.0->typer<1.0,>=0.12->gradio) (2.18.0)\n",
            "Requirement already satisfied: charset-normalizer<4,>=2 in /usr/local/lib/python3.11/dist-packages (from requests->huggingface-hub>=0.28.1->gradio) (3.4.1)\n",
            "Requirement already satisfied: urllib3<3,>=1.21.1 in /usr/local/lib/python3.11/dist-packages (from requests->huggingface-hub>=0.28.1->gradio) (2.3.0)\n",
            "Requirement already satisfied: mdurl~=0.1 in /usr/local/lib/python3.11/dist-packages (from markdown-it-py>=2.2.0->rich>=10.11.0->typer<1.0,>=0.12->gradio) (0.1.2)\n",
            "Downloading gradio-5.25.2-py3-none-any.whl (46.9 MB)\n",
            "\u001b[2K   \u001b[90m━━━━━━━━━━━━━━━━━━━━━━━━━━━━━━━━━━━━━━━━\u001b[0m \u001b[32m46.9/46.9 MB\u001b[0m \u001b[31m23.4 MB/s\u001b[0m eta \u001b[36m0:00:00\u001b[0m\n",
            "\u001b[?25hDownloading gradio_client-1.8.0-py3-none-any.whl (322 kB)\n",
            "\u001b[2K   \u001b[90m━━━━━━━━━━━━━━━━━━━━━━━━━━━━━━━━━━━━━━━━\u001b[0m \u001b[32m322.2/322.2 kB\u001b[0m \u001b[31m26.9 MB/s\u001b[0m eta \u001b[36m0:00:00\u001b[0m\n",
            "\u001b[?25hDownloading aiofiles-24.1.0-py3-none-any.whl (15 kB)\n",
            "Downloading groovy-0.1.2-py3-none-any.whl (14 kB)\n",
            "Downloading python_multipart-0.0.20-py3-none-any.whl (24 kB)\n",
            "Downloading ruff-0.11.5-py3-none-manylinux_2_17_x86_64.manylinux2014_x86_64.whl (11.4 MB)\n",
            "\u001b[2K   \u001b[90m━━━━━━━━━━━━━━━━━━━━━━━━━━━━━━━━━━━━━━━━\u001b[0m \u001b[32m11.4/11.4 MB\u001b[0m \u001b[31m113.6 MB/s\u001b[0m eta \u001b[36m0:00:00\u001b[0m\n",
            "\u001b[?25hDownloading safehttpx-0.1.6-py3-none-any.whl (8.7 kB)\n",
            "Downloading semantic_version-2.10.0-py2.py3-none-any.whl (15 kB)\n",
            "Downloading tomlkit-0.13.2-py3-none-any.whl (37 kB)\n",
            "Downloading ffmpy-0.5.0-py3-none-any.whl (6.0 kB)\n",
            "Downloading pydub-0.25.1-py2.py3-none-any.whl (32 kB)\n",
            "Installing collected packages: pydub, tomlkit, semantic-version, ruff, python-multipart, groovy, ffmpy, aiofiles, safehttpx, gradio-client, gradio\n",
            "Successfully installed aiofiles-24.1.0 ffmpy-0.5.0 gradio-5.25.2 gradio-client-1.8.0 groovy-0.1.2 pydub-0.25.1 python-multipart-0.0.20 ruff-0.11.5 safehttpx-0.1.6 semantic-version-2.10.0 tomlkit-0.13.2\n"
          ]
        }
      ],
      "source": [
        "# Core LangChain\n",
        "!pip install langchain\n",
        "\n",
        "# OpenAI LLMs\n",
        "!pip install openai\n",
        "\n",
        "# Hugging Face if you want to switch to free models later\n",
        "!pip install huggingface_hub\n",
        "\n",
        "# Vector DBs for memory / search (optional)\n",
        "!pip install faiss-cpu\n",
        "!pip install chromadb\n",
        "\n",
        "# Prompt & token management\n",
        "!pip install tiktoken\n",
        "\n",
        "# For PDFs, web scraping, data input (optional)\n",
        "!pip install PyPDF2 pdfminer.six\n",
        "!pip install beautifulsoup4 requests\n",
        "\n",
        "# Environment file support (to store your API key)\n",
        "!pip install python-dotenv\n",
        "\n",
        "# UI for demo (optional but 🔥 for hackathons)\n",
        "!pip install gradio\n"
      ]
    },
    {
      "cell_type": "code",
      "source": [
        "!pip install -U langchain-groq\n"
      ],
      "metadata": {
        "collapsed": true,
        "colab": {
          "base_uri": "https://localhost:8080/"
        },
        "id": "wJFfvcZZEdt9",
        "outputId": "1a58c732-47b0-4d96-e2af-9506b2a4e916"
      },
      "execution_count": 12,
      "outputs": [
        {
          "output_type": "stream",
          "name": "stdout",
          "text": [
            "Collecting langchain-groq\n",
            "  Downloading langchain_groq-0.3.2-py3-none-any.whl.metadata (2.6 kB)\n",
            "Requirement already satisfied: langchain-core<1.0.0,>=0.3.49 in /usr/local/lib/python3.11/dist-packages (from langchain-groq) (0.3.51)\n",
            "Collecting groq<1,>=0.4.1 (from langchain-groq)\n",
            "  Downloading groq-0.22.0-py3-none-any.whl.metadata (15 kB)\n",
            "Requirement already satisfied: anyio<5,>=3.5.0 in /usr/local/lib/python3.11/dist-packages (from groq<1,>=0.4.1->langchain-groq) (4.9.0)\n",
            "Requirement already satisfied: distro<2,>=1.7.0 in /usr/local/lib/python3.11/dist-packages (from groq<1,>=0.4.1->langchain-groq) (1.9.0)\n",
            "Requirement already satisfied: httpx<1,>=0.23.0 in /usr/local/lib/python3.11/dist-packages (from groq<1,>=0.4.1->langchain-groq) (0.28.1)\n",
            "Requirement already satisfied: pydantic<3,>=1.9.0 in /usr/local/lib/python3.11/dist-packages (from groq<1,>=0.4.1->langchain-groq) (2.11.3)\n",
            "Requirement already satisfied: sniffio in /usr/local/lib/python3.11/dist-packages (from groq<1,>=0.4.1->langchain-groq) (1.3.1)\n",
            "Requirement already satisfied: typing-extensions<5,>=4.10 in /usr/local/lib/python3.11/dist-packages (from groq<1,>=0.4.1->langchain-groq) (4.13.1)\n",
            "Requirement already satisfied: langsmith<0.4,>=0.1.125 in /usr/local/lib/python3.11/dist-packages (from langchain-core<1.0.0,>=0.3.49->langchain-groq) (0.3.28)\n",
            "Requirement already satisfied: tenacity!=8.4.0,<10.0.0,>=8.1.0 in /usr/local/lib/python3.11/dist-packages (from langchain-core<1.0.0,>=0.3.49->langchain-groq) (9.1.2)\n",
            "Requirement already satisfied: jsonpatch<2.0,>=1.33 in /usr/local/lib/python3.11/dist-packages (from langchain-core<1.0.0,>=0.3.49->langchain-groq) (1.33)\n",
            "Requirement already satisfied: PyYAML>=5.3 in /usr/local/lib/python3.11/dist-packages (from langchain-core<1.0.0,>=0.3.49->langchain-groq) (6.0.2)\n",
            "Requirement already satisfied: packaging<25,>=23.2 in /usr/local/lib/python3.11/dist-packages (from langchain-core<1.0.0,>=0.3.49->langchain-groq) (24.2)\n",
            "Requirement already satisfied: idna>=2.8 in /usr/local/lib/python3.11/dist-packages (from anyio<5,>=3.5.0->groq<1,>=0.4.1->langchain-groq) (3.10)\n",
            "Requirement already satisfied: certifi in /usr/local/lib/python3.11/dist-packages (from httpx<1,>=0.23.0->groq<1,>=0.4.1->langchain-groq) (2025.1.31)\n",
            "Requirement already satisfied: httpcore==1.* in /usr/local/lib/python3.11/dist-packages (from httpx<1,>=0.23.0->groq<1,>=0.4.1->langchain-groq) (1.0.7)\n",
            "Requirement already satisfied: h11<0.15,>=0.13 in /usr/local/lib/python3.11/dist-packages (from httpcore==1.*->httpx<1,>=0.23.0->groq<1,>=0.4.1->langchain-groq) (0.14.0)\n",
            "Requirement already satisfied: jsonpointer>=1.9 in /usr/local/lib/python3.11/dist-packages (from jsonpatch<2.0,>=1.33->langchain-core<1.0.0,>=0.3.49->langchain-groq) (3.0.0)\n",
            "Requirement already satisfied: orjson<4.0.0,>=3.9.14 in /usr/local/lib/python3.11/dist-packages (from langsmith<0.4,>=0.1.125->langchain-core<1.0.0,>=0.3.49->langchain-groq) (3.10.16)\n",
            "Requirement already satisfied: requests<3,>=2 in /usr/local/lib/python3.11/dist-packages (from langsmith<0.4,>=0.1.125->langchain-core<1.0.0,>=0.3.49->langchain-groq) (2.32.3)\n",
            "Requirement already satisfied: requests-toolbelt<2.0.0,>=1.0.0 in /usr/local/lib/python3.11/dist-packages (from langsmith<0.4,>=0.1.125->langchain-core<1.0.0,>=0.3.49->langchain-groq) (1.0.0)\n",
            "Requirement already satisfied: zstandard<0.24.0,>=0.23.0 in /usr/local/lib/python3.11/dist-packages (from langsmith<0.4,>=0.1.125->langchain-core<1.0.0,>=0.3.49->langchain-groq) (0.23.0)\n",
            "Requirement already satisfied: annotated-types>=0.6.0 in /usr/local/lib/python3.11/dist-packages (from pydantic<3,>=1.9.0->groq<1,>=0.4.1->langchain-groq) (0.7.0)\n",
            "Requirement already satisfied: pydantic-core==2.33.1 in /usr/local/lib/python3.11/dist-packages (from pydantic<3,>=1.9.0->groq<1,>=0.4.1->langchain-groq) (2.33.1)\n",
            "Requirement already satisfied: typing-inspection>=0.4.0 in /usr/local/lib/python3.11/dist-packages (from pydantic<3,>=1.9.0->groq<1,>=0.4.1->langchain-groq) (0.4.0)\n",
            "Requirement already satisfied: charset-normalizer<4,>=2 in /usr/local/lib/python3.11/dist-packages (from requests<3,>=2->langsmith<0.4,>=0.1.125->langchain-core<1.0.0,>=0.3.49->langchain-groq) (3.4.1)\n",
            "Requirement already satisfied: urllib3<3,>=1.21.1 in /usr/local/lib/python3.11/dist-packages (from requests<3,>=2->langsmith<0.4,>=0.1.125->langchain-core<1.0.0,>=0.3.49->langchain-groq) (2.3.0)\n",
            "Downloading langchain_groq-0.3.2-py3-none-any.whl (15 kB)\n",
            "Downloading groq-0.22.0-py3-none-any.whl (126 kB)\n",
            "\u001b[?25l   \u001b[90m━━━━━━━━━━━━━━━━━━━━━━━━━━━━━━━━━━━━━━━━\u001b[0m \u001b[32m0.0/126.7 kB\u001b[0m \u001b[31m?\u001b[0m eta \u001b[36m-:--:--\u001b[0m\r\u001b[2K   \u001b[90m━━━━━━━━━━━━━━━━━━━━━━━━━━━━━━━━━━━━━━━━\u001b[0m \u001b[32m126.7/126.7 kB\u001b[0m \u001b[31m12.8 MB/s\u001b[0m eta \u001b[36m0:00:00\u001b[0m\n",
            "\u001b[?25hInstalling collected packages: groq, langchain-groq\n",
            "Successfully installed groq-0.22.0 langchain-groq-0.3.2\n"
          ]
        }
      ]
    },
    {
      "cell_type": "code",
      "source": [
        "!pip install langchain langchain-community\n",
        "\n",
        "import os\n",
        "# from langchain.llms import OpenAI\n",
        "from langchain_groq import ChatGroq\n",
        "from langchain.prompts import PromptTemplate\n",
        "from langchain.chains import LLMChain\n"
      ],
      "metadata": {
        "colab": {
          "base_uri": "https://localhost:8080/"
        },
        "collapsed": true,
        "id": "W18DIbph9pc1",
        "outputId": "e6bbe237-721a-4f80-f922-9970d6793229"
      },
      "execution_count": 13,
      "outputs": [
        {
          "output_type": "stream",
          "name": "stdout",
          "text": [
            "Requirement already satisfied: langchain in /usr/local/lib/python3.11/dist-packages (0.3.23)\n",
            "Requirement already satisfied: langchain-community in /usr/local/lib/python3.11/dist-packages (0.3.21)\n",
            "Requirement already satisfied: langchain-core<1.0.0,>=0.3.51 in /usr/local/lib/python3.11/dist-packages (from langchain) (0.3.51)\n",
            "Requirement already satisfied: langchain-text-splitters<1.0.0,>=0.3.8 in /usr/local/lib/python3.11/dist-packages (from langchain) (0.3.8)\n",
            "Requirement already satisfied: langsmith<0.4,>=0.1.17 in /usr/local/lib/python3.11/dist-packages (from langchain) (0.3.28)\n",
            "Requirement already satisfied: pydantic<3.0.0,>=2.7.4 in /usr/local/lib/python3.11/dist-packages (from langchain) (2.11.3)\n",
            "Requirement already satisfied: SQLAlchemy<3,>=1.4 in /usr/local/lib/python3.11/dist-packages (from langchain) (2.0.40)\n",
            "Requirement already satisfied: requests<3,>=2 in /usr/local/lib/python3.11/dist-packages (from langchain) (2.32.3)\n",
            "Requirement already satisfied: PyYAML>=5.3 in /usr/local/lib/python3.11/dist-packages (from langchain) (6.0.2)\n",
            "Requirement already satisfied: aiohttp<4.0.0,>=3.8.3 in /usr/local/lib/python3.11/dist-packages (from langchain-community) (3.11.15)\n",
            "Requirement already satisfied: tenacity!=8.4.0,<10,>=8.1.0 in /usr/local/lib/python3.11/dist-packages (from langchain-community) (9.1.2)\n",
            "Requirement already satisfied: dataclasses-json<0.7,>=0.5.7 in /usr/local/lib/python3.11/dist-packages (from langchain-community) (0.6.7)\n",
            "Requirement already satisfied: pydantic-settings<3.0.0,>=2.4.0 in /usr/local/lib/python3.11/dist-packages (from langchain-community) (2.8.1)\n",
            "Requirement already satisfied: httpx-sse<1.0.0,>=0.4.0 in /usr/local/lib/python3.11/dist-packages (from langchain-community) (0.4.0)\n",
            "Requirement already satisfied: numpy<3,>=1.26.2 in /usr/local/lib/python3.11/dist-packages (from langchain-community) (2.0.2)\n",
            "Requirement already satisfied: aiohappyeyeballs>=2.3.0 in /usr/local/lib/python3.11/dist-packages (from aiohttp<4.0.0,>=3.8.3->langchain-community) (2.6.1)\n",
            "Requirement already satisfied: aiosignal>=1.1.2 in /usr/local/lib/python3.11/dist-packages (from aiohttp<4.0.0,>=3.8.3->langchain-community) (1.3.2)\n",
            "Requirement already satisfied: attrs>=17.3.0 in /usr/local/lib/python3.11/dist-packages (from aiohttp<4.0.0,>=3.8.3->langchain-community) (25.3.0)\n",
            "Requirement already satisfied: frozenlist>=1.1.1 in /usr/local/lib/python3.11/dist-packages (from aiohttp<4.0.0,>=3.8.3->langchain-community) (1.5.0)\n",
            "Requirement already satisfied: multidict<7.0,>=4.5 in /usr/local/lib/python3.11/dist-packages (from aiohttp<4.0.0,>=3.8.3->langchain-community) (6.4.2)\n",
            "Requirement already satisfied: propcache>=0.2.0 in /usr/local/lib/python3.11/dist-packages (from aiohttp<4.0.0,>=3.8.3->langchain-community) (0.3.1)\n",
            "Requirement already satisfied: yarl<2.0,>=1.17.0 in /usr/local/lib/python3.11/dist-packages (from aiohttp<4.0.0,>=3.8.3->langchain-community) (1.19.0)\n",
            "Requirement already satisfied: marshmallow<4.0.0,>=3.18.0 in /usr/local/lib/python3.11/dist-packages (from dataclasses-json<0.7,>=0.5.7->langchain-community) (3.26.1)\n",
            "Requirement already satisfied: typing-inspect<1,>=0.4.0 in /usr/local/lib/python3.11/dist-packages (from dataclasses-json<0.7,>=0.5.7->langchain-community) (0.9.0)\n",
            "Requirement already satisfied: jsonpatch<2.0,>=1.33 in /usr/local/lib/python3.11/dist-packages (from langchain-core<1.0.0,>=0.3.51->langchain) (1.33)\n",
            "Requirement already satisfied: packaging<25,>=23.2 in /usr/local/lib/python3.11/dist-packages (from langchain-core<1.0.0,>=0.3.51->langchain) (24.2)\n",
            "Requirement already satisfied: typing-extensions>=4.7 in /usr/local/lib/python3.11/dist-packages (from langchain-core<1.0.0,>=0.3.51->langchain) (4.13.1)\n",
            "Requirement already satisfied: httpx<1,>=0.23.0 in /usr/local/lib/python3.11/dist-packages (from langsmith<0.4,>=0.1.17->langchain) (0.28.1)\n",
            "Requirement already satisfied: orjson<4.0.0,>=3.9.14 in /usr/local/lib/python3.11/dist-packages (from langsmith<0.4,>=0.1.17->langchain) (3.10.16)\n",
            "Requirement already satisfied: requests-toolbelt<2.0.0,>=1.0.0 in /usr/local/lib/python3.11/dist-packages (from langsmith<0.4,>=0.1.17->langchain) (1.0.0)\n",
            "Requirement already satisfied: zstandard<0.24.0,>=0.23.0 in /usr/local/lib/python3.11/dist-packages (from langsmith<0.4,>=0.1.17->langchain) (0.23.0)\n",
            "Requirement already satisfied: annotated-types>=0.6.0 in /usr/local/lib/python3.11/dist-packages (from pydantic<3.0.0,>=2.7.4->langchain) (0.7.0)\n",
            "Requirement already satisfied: pydantic-core==2.33.1 in /usr/local/lib/python3.11/dist-packages (from pydantic<3.0.0,>=2.7.4->langchain) (2.33.1)\n",
            "Requirement already satisfied: typing-inspection>=0.4.0 in /usr/local/lib/python3.11/dist-packages (from pydantic<3.0.0,>=2.7.4->langchain) (0.4.0)\n",
            "Requirement already satisfied: python-dotenv>=0.21.0 in /usr/local/lib/python3.11/dist-packages (from pydantic-settings<3.0.0,>=2.4.0->langchain-community) (1.1.0)\n",
            "Requirement already satisfied: charset-normalizer<4,>=2 in /usr/local/lib/python3.11/dist-packages (from requests<3,>=2->langchain) (3.4.1)\n",
            "Requirement already satisfied: idna<4,>=2.5 in /usr/local/lib/python3.11/dist-packages (from requests<3,>=2->langchain) (3.10)\n",
            "Requirement already satisfied: urllib3<3,>=1.21.1 in /usr/local/lib/python3.11/dist-packages (from requests<3,>=2->langchain) (2.3.0)\n",
            "Requirement already satisfied: certifi>=2017.4.17 in /usr/local/lib/python3.11/dist-packages (from requests<3,>=2->langchain) (2025.1.31)\n",
            "Requirement already satisfied: greenlet>=1 in /usr/local/lib/python3.11/dist-packages (from SQLAlchemy<3,>=1.4->langchain) (3.1.1)\n",
            "Requirement already satisfied: anyio in /usr/local/lib/python3.11/dist-packages (from httpx<1,>=0.23.0->langsmith<0.4,>=0.1.17->langchain) (4.9.0)\n",
            "Requirement already satisfied: httpcore==1.* in /usr/local/lib/python3.11/dist-packages (from httpx<1,>=0.23.0->langsmith<0.4,>=0.1.17->langchain) (1.0.7)\n",
            "Requirement already satisfied: h11<0.15,>=0.13 in /usr/local/lib/python3.11/dist-packages (from httpcore==1.*->httpx<1,>=0.23.0->langsmith<0.4,>=0.1.17->langchain) (0.14.0)\n",
            "Requirement already satisfied: jsonpointer>=1.9 in /usr/local/lib/python3.11/dist-packages (from jsonpatch<2.0,>=1.33->langchain-core<1.0.0,>=0.3.51->langchain) (3.0.0)\n",
            "Requirement already satisfied: mypy-extensions>=0.3.0 in /usr/local/lib/python3.11/dist-packages (from typing-inspect<1,>=0.4.0->dataclasses-json<0.7,>=0.5.7->langchain-community) (1.0.0)\n",
            "Requirement already satisfied: sniffio>=1.1 in /usr/local/lib/python3.11/dist-packages (from anyio->httpx<1,>=0.23.0->langsmith<0.4,>=0.1.17->langchain) (1.3.1)\n"
          ]
        }
      ]
    },
    {
      "cell_type": "code",
      "source": [
        "os.environ['GROQ_API_KEY'] = \"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\""
      ],
      "metadata": {
        "id": "KqSlsOekClnT"
      },
      "execution_count": 14,
      "outputs": []
    },
    {
      "cell_type": "code",
      "source": [
        "# from dotenv import load_dotenv, find_dotenv\n",
        "# _ = load_dotenv(find_dotenv())\n",
        "# groq_api_key = GROQ_API_KEY"
      ],
      "metadata": {
        "id": "2VbLZexA95U6"
      },
      "execution_count": 9,
      "outputs": []
    },
    {
      "cell_type": "code",
      "source": [
        "# groq chat model\n",
        "llm = ChatGroq(\n",
        "    temperature=0.7,\n",
        "    model_name=\"llama3-70b-8192\"  # we can use other Groq-supported models like llama3-70b\n",
        ")\n"
      ],
      "metadata": {
        "id": "Pj_-dsamCOKz"
      },
      "execution_count": 17,
      "outputs": []
    },
    {
      "cell_type": "code",
      "source": [
        "response = llm.invoke(\n",
        "    \"tell me one fun fact about the kennedy family.\"\n",
        ")"
      ],
      "metadata": {
        "id": "04jVOoBtDs_y"
      },
      "execution_count": 18,
      "outputs": []
    },
    {
      "cell_type": "code",
      "source": [
        "print(response.content)\n"
      ],
      "metadata": {
        "colab": {
          "base_uri": "https://localhost:8080/"
        },
        "id": "-OU4Wr77FiHE",
        "outputId": "7fa11faa-fc64-4cc7-b4d8-5b47794c5f1f"
      },
      "execution_count": 23,
      "outputs": [
        {
          "output_type": "stream",
          "name": "stdout",
          "text": [
            "Here's one fun fact about the Kennedy family:\n",
            "\n",
            "The Kennedy family had a tradition of having a \"family Olympics\" at their compound in Hyannis Port, Massachusetts, every summer! They would set up a series of fun competitions, including sailing, swimming, and even a tug-of-war, and award prizes to the winners. This tradition was started by Joseph P. Kennedy Sr. and continued by his children, including John F. Kennedy, Robert Kennedy, and Ted Kennedy. It was a way for the family to bond and have fun together, and many of the Kennedys have fond memories of these events.\n"
          ]
        }
      ]
    },
    {
      "cell_type": "code",
      "source": [
        "# streaming the output\n",
        "for chunk in llm.stream(\n",
        "    \"tell me one fun fact about the kennedy family.\"\n",
        "):\n",
        "    print(chunk.content, end = \"\",flush = True)\n"
      ],
      "metadata": {
        "colab": {
          "base_uri": "https://localhost:8080/"
        },
        "id": "pgKoytshF3Vj",
        "outputId": "6ada867a-945e-42f0-b31d-1f60d6f90647"
      },
      "execution_count": 26,
      "outputs": [
        {
          "output_type": "stream",
          "name": "stdout",
          "text": [
            "Here's one fun fact about the Kennedy family:\n",
            "\n",
            "The Kennedy family had a pet hamster named Debbie, who was a beloved member of the family! In fact, Debbie was so loved that she even had her own special hamster-sized White House pass, complete with a photo of her tiny face. According to reports, Debbie was a mischievous hamster who loved to escape from her cage and explore the White House corridors. Who knew the Kennedys were such animal lovers?"
          ]
        }
      ]
    },
    {
      "cell_type": "markdown",
      "source": [],
      "metadata": {
        "id": "7gZscSjUPnO5"
      }
    },
    {
      "cell_type": "code",
      "source": [
        "# temperature --> more or less creativity\n",
        "creative_llm = ChatGroq(\n",
        "    temperature = 0.9,\n",
        "    model_name=\"llama3-70b-8192\")"
      ],
      "metadata": {
        "id": "fKhKk1m9KT_F"
      },
      "execution_count": 28,
      "outputs": []
    },
    {
      "cell_type": "code",
      "source": [
        "response = creative_llm.invoke(\"write a short 5 line poem for python\")"
      ],
      "metadata": {
        "id": "eLYjscepL6No"
      },
      "execution_count": 29,
      "outputs": []
    },
    {
      "cell_type": "code",
      "source": [
        "print(response.content)"
      ],
      "metadata": {
        "colab": {
          "base_uri": "https://localhost:8080/"
        },
        "id": "XAp7bMSCMfWJ",
        "outputId": "0a62b7d6-fe64-4d90-e42a-f8caef9d4de4"
      },
      "execution_count": 31,
      "outputs": [
        {
          "output_type": "stream",
          "name": "stdout",
          "text": [
            "Here is a short 5-line poem for Python:\n",
            "\n",
            "Indentations deep and wide,\n",
            "Semicolons guide my code with pride,\n",
            "Loops that iterate with glee,\n",
            "Functions that make my heart sing free,\n",
            "Python, my language, my heart's inside.\n"
          ]
        }
      ]
    },
    {
      "cell_type": "code",
      "source": [
        "messages = [\n",
        "    (\"system\",\"you are an skincare expert for skin of colour.\"),\n",
        "    (\"human\",\"tell me about what should be the skincare routine for the skin of colour.\"),\n",
        "\n",
        "]\n",
        "response = llm.invoke(messages)"
      ],
      "metadata": {
        "id": "H-8HWytkP055"
      },
      "execution_count": 34,
      "outputs": []
    },
    {
      "cell_type": "code",
      "source": [
        "print(response.content)"
      ],
      "metadata": {
        "colab": {
          "base_uri": "https://localhost:8080/"
        },
        "id": "yN0FbHP8RJYo",
        "outputId": "dd99296b-c253-4ded-fe22-a7a21680751f"
      },
      "execution_count": 36,
      "outputs": [
        {
          "output_type": "stream",
          "name": "stdout",
          "text": [
            "As a skincare expert for skin of color, I'm excited to share a comprehensive skincare routine that caters to the unique needs of darker skin tones. Keep in mind that everyone's skin is different, and it's essential to customize your routine based on your individual skin type, concerns, and needs. That being said, here's a general guide to get you started:\n",
            "\n",
            "**Understanding Skin of Color:**\n",
            "\n",
            "Skin of color has a higher concentration of melanin, which can affect how it responds to skincare products and treatments. Darker skin tones are more prone to:\n",
            "\n",
            "1. Hyperpigmentation: Dark spots, uneven tone, and post-inflammatory hyperpigmentation (PIH) are common concerns.\n",
            "2. Dryness: Skin of color tends to be drier due to the natural barrier function of melanin, which can lead to dryness, itchiness, and irritation.\n",
            "3. Sensitivity: Darker skin tones can be more reactive to products and ingredients, making sensitivity a common issue.\n",
            "\n",
            "**Skincare Routine for Skin of Color:**\n",
            "\n",
            "**Step 1: Cleanse**\n",
            "\n",
            "* Use a gentle, non-stripping cleanser that effectively removes dirt and impurities without disrupting the skin's natural pH balance. Look for a cleanser containing ingredients like glycerin, ceramides, or niacinamide.\n",
            "* Avoid harsh exfoliating cleansers or those containing sodium lauryl sulfate (SLS), which can strip the skin of its natural oils.\n",
            "\n",
            "Recommended cleanser: Cetaphil Gentle Skin Cleanser or Neutrogena Hydrating Facial Cleanser\n",
            "\n",
            "**Step 2: Exfoliate**\n",
            "\n",
            "* Exfoliate 1-2 times a week to remove dead skin cells and promote cell turnover. Use a chemical exfoliant containing alpha-hydroxy acids (AHAs) or beta-hydroxy acids (BHAs), which are gentler than physical exfoliants.\n",
            "* Look for products containing ingredients like lactic acid, glycolic acid, or salicylic acid.\n",
            "\n",
            "Recommended exfoliant: Paula's Choice 2% BHA Liquid or The Ordinary Lactic Acid 10% + HA 2%\n",
            "\n",
            "**Step 3: Toner**\n",
            "\n",
            "* Use a toner that helps balance the skin's pH, removes any remaining impurities, and prepares the skin for subsequent products.\n",
            "* Look for a toner containing soothing ingredients like aloe vera, green tea, or witch hazel.\n",
            "\n",
            "Recommended toner: Thayers Rose Petal Witch Hazel or Pixi Glow Tonic\n",
            "\n",
            "**Step 4: Essence**\n",
            "\n",
            "* An essence is a concentrated serum that delivers active ingredients to the skin. It helps with skin texture, tone, and hydration.\n",
            "* Look for an essence containing ingredients like vitamin C, niacinamide, or adenosine.\n",
            "\n",
            "Recommended essence: Missha Time Revolution The First Treatment Essence or SK-II PITERA Essence\n",
            "\n",
            "**Step 5: Serum**\n",
            "\n",
            "* Serums are concentrated formulas that target specific skin concerns. For skin of color, focus on serums that address hyperpigmentation, dryness, and sensitivity.\n",
            "* Look for serums containing ingredients like vitamin C, kojic acid, or licorice extract.\n",
            "\n",
            "Recommended serum: Olay Regenerist Micro-Sculpting Serum or SkinCeuticals Phloretin CF Gel\n",
            "\n",
            "**Step 6: Moisturize**\n",
            "\n",
            "* Use a moisturizer that provides intense hydration, helps with skin elasticity, and protects the skin from environmental stressors.\n",
            "* Look for a moisturizer containing ingredients like hyaluronic acid, glycerin, or ceramides.\n",
            "\n",
            "Recommended moisturizer: CeraVe Moisturizing Cream or La Roche-Posay Toleriane Ultra Fluid\n",
            "\n",
            "**Step 7: Sunscreen**\n",
            "\n",
            "* Use a broad-spectrum sunscreen with an SPF of at least 30, even on cloudy days.\n",
            "* Look for a sunscreen containing ingredients like zinc oxide, titanium dioxide, or avobenzone.\n",
            "\n",
            "Recommended sunscreen: EltaMD UV Clear Broad-Spectrum SPF 46 or La Roche-Posay Anthelios Melt-In Sunscreen Milk\n",
            "\n",
            "**Additional Tips:**\n",
            "\n",
            "* Be gentle: Avoid using harsh products or rough exfoliants that can cause micro-tearing and irritation.\n",
            "* Stay hydrated: Drink plenty of water to keep your skin hydrated from the inside out.\n",
            "* Protect your skin from the sun: Use a broad-spectrum sunscreen daily and reapply every 2 hours or immediately after swimming or sweating.\n",
            "* Be patient: Skin of color can be more reactive, so introduce new products gradually and monitor your skin's response.\n",
            "\n",
            "Remember, everyone's skin is unique, and it may take some trial and error to find the right products and routine that work for you. Be patient, and don't hesitate to consult with a dermatologist or skincare professional if you have specific concerns or questions.\n"
          ]
        }
      ]
    },
    {
      "cell_type": "code",
      "source": [
        "response.response_metadata"
      ],
      "metadata": {
        "colab": {
          "base_uri": "https://localhost:8080/"
        },
        "id": "8FDN40YgRQ0Q",
        "outputId": "f9188898-e69c-427f-c287-d80c306ae9e7"
      },
      "execution_count": 37,
      "outputs": [
        {
          "output_type": "execute_result",
          "data": {
            "text/plain": [
              "{'token_usage': {'completion_tokens': 982,\n",
              "  'prompt_tokens': 40,\n",
              "  'total_tokens': 1022,\n",
              "  'completion_time': 2.8057142859999997,\n",
              "  'prompt_time': 0.001170287,\n",
              "  'queue_time': 0.217577981,\n",
              "  'total_time': 2.806884573},\n",
              " 'model_name': 'llama3-70b-8192',\n",
              " 'system_fingerprint': 'fp_dd4ae1c591',\n",
              " 'finish_reason': 'stop',\n",
              " 'logprobs': None}"
            ]
          },
          "metadata": {},
          "execution_count": 37
        }
      ]
    },
    {
      "cell_type": "code",
      "source": [
        "response.schema()"
      ],
      "metadata": {
        "colab": {
          "base_uri": "https://localhost:8080/"
        },
        "id": "A64ENljBSYfq",
        "outputId": "087ed84a-94f8-4932-df2b-6d861d180255"
      },
      "execution_count": 38,
      "outputs": [
        {
          "output_type": "stream",
          "name": "stderr",
          "text": [
            "<ipython-input-38-eaf9d18aa171>:1: PydanticDeprecatedSince20: The `schema` method is deprecated; use `model_json_schema` instead. Deprecated in Pydantic V2.0 to be removed in V3.0. See Pydantic V2 Migration Guide at https://errors.pydantic.dev/2.11/migration/\n",
            "  response.schema()\n"
          ]
        },
        {
          "output_type": "execute_result",
          "data": {
            "text/plain": [
              "{'$defs': {'InputTokenDetails': {'description': 'Breakdown of input token counts.\\n\\nDoes *not* need to sum to full input token count. Does *not* need to have all keys.\\n\\nExample:\\n\\n    .. code-block:: python\\n\\n        {\\n            \"audio\": 10,\\n            \"cache_creation\": 200,\\n            \"cache_read\": 100,\\n        }\\n\\n.. versionadded:: 0.3.9',\n",
              "   'properties': {'audio': {'title': 'Audio', 'type': 'integer'},\n",
              "    'cache_creation': {'title': 'Cache Creation', 'type': 'integer'},\n",
              "    'cache_read': {'title': 'Cache Read', 'type': 'integer'}},\n",
              "   'title': 'InputTokenDetails',\n",
              "   'type': 'object'},\n",
              "  'InvalidToolCall': {'description': 'Allowance for errors made by LLM.\\n\\nHere we add an `error` key to surface errors made during generation\\n(e.g., invalid JSON arguments.)',\n",
              "   'properties': {'name': {'anyOf': [{'type': 'string'}, {'type': 'null'}],\n",
              "     'title': 'Name'},\n",
              "    'args': {'anyOf': [{'type': 'string'}, {'type': 'null'}], 'title': 'Args'},\n",
              "    'id': {'anyOf': [{'type': 'string'}, {'type': 'null'}], 'title': 'Id'},\n",
              "    'error': {'anyOf': [{'type': 'string'}, {'type': 'null'}],\n",
              "     'title': 'Error'},\n",
              "    'type': {'const': 'invalid_tool_call', 'title': 'Type', 'type': 'string'}},\n",
              "   'required': ['name', 'args', 'id', 'error'],\n",
              "   'title': 'InvalidToolCall',\n",
              "   'type': 'object'},\n",
              "  'OutputTokenDetails': {'description': 'Breakdown of output token counts.\\n\\nDoes *not* need to sum to full output token count. Does *not* need to have all keys.\\n\\nExample:\\n\\n    .. code-block:: python\\n\\n        {\\n            \"audio\": 10,\\n            \"reasoning\": 200,\\n        }\\n\\n.. versionadded:: 0.3.9',\n",
              "   'properties': {'audio': {'title': 'Audio', 'type': 'integer'},\n",
              "    'reasoning': {'title': 'Reasoning', 'type': 'integer'}},\n",
              "   'title': 'OutputTokenDetails',\n",
              "   'type': 'object'},\n",
              "  'ToolCall': {'description': 'Represents a request to call a tool.\\n\\nExample:\\n\\n    .. code-block:: python\\n\\n        {\\n            \"name\": \"foo\",\\n            \"args\": {\"a\": 1},\\n            \"id\": \"123\"\\n        }\\n\\n    This represents a request to call the tool named \"foo\" with arguments {\"a\": 1}\\n    and an identifier of \"123\".',\n",
              "   'properties': {'name': {'title': 'Name', 'type': 'string'},\n",
              "    'args': {'additionalProperties': True, 'title': 'Args', 'type': 'object'},\n",
              "    'id': {'anyOf': [{'type': 'string'}, {'type': 'null'}], 'title': 'Id'},\n",
              "    'type': {'const': 'tool_call', 'title': 'Type', 'type': 'string'}},\n",
              "   'required': ['name', 'args', 'id'],\n",
              "   'title': 'ToolCall',\n",
              "   'type': 'object'},\n",
              "  'UsageMetadata': {'description': 'Usage metadata for a message, such as token counts.\\n\\nThis is a standard representation of token usage that is consistent across models.\\n\\nExample:\\n\\n    .. code-block:: python\\n\\n        {\\n            \"input_tokens\": 350,\\n            \"output_tokens\": 240,\\n            \"total_tokens\": 590,\\n            \"input_token_details\": {\\n                \"audio\": 10,\\n                \"cache_creation\": 200,\\n                \"cache_read\": 100,\\n            },\\n            \"output_token_details\": {\\n                \"audio\": 10,\\n                \"reasoning\": 200,\\n            }\\n        }\\n\\n.. versionchanged:: 0.3.9\\n\\n    Added ``input_token_details`` and ``output_token_details``.',\n",
              "   'properties': {'input_tokens': {'title': 'Input Tokens', 'type': 'integer'},\n",
              "    'output_tokens': {'title': 'Output Tokens', 'type': 'integer'},\n",
              "    'total_tokens': {'title': 'Total Tokens', 'type': 'integer'},\n",
              "    'input_token_details': {'$ref': '#/$defs/InputTokenDetails'},\n",
              "    'output_token_details': {'$ref': '#/$defs/OutputTokenDetails'}},\n",
              "   'required': ['input_tokens', 'output_tokens', 'total_tokens'],\n",
              "   'title': 'UsageMetadata',\n",
              "   'type': 'object'}},\n",
              " 'additionalProperties': True,\n",
              " 'description': 'Message from an AI.\\n\\nAIMessage is returned from a chat model as a response to a prompt.\\n\\nThis message represents the output of the model and consists of both\\nthe raw output as returned by the model together standardized fields\\n(e.g., tool calls, usage metadata) added by the LangChain framework.',\n",
              " 'properties': {'content': {'anyOf': [{'type': 'string'},\n",
              "    {'items': {'anyOf': [{'type': 'string'},\n",
              "       {'additionalProperties': True, 'type': 'object'}]},\n",
              "     'type': 'array'}],\n",
              "   'title': 'Content'},\n",
              "  'additional_kwargs': {'additionalProperties': True,\n",
              "   'title': 'Additional Kwargs',\n",
              "   'type': 'object'},\n",
              "  'response_metadata': {'additionalProperties': True,\n",
              "   'title': 'Response Metadata',\n",
              "   'type': 'object'},\n",
              "  'type': {'const': 'ai', 'default': 'ai', 'title': 'Type', 'type': 'string'},\n",
              "  'name': {'anyOf': [{'type': 'string'}, {'type': 'null'}],\n",
              "   'default': None,\n",
              "   'title': 'Name'},\n",
              "  'id': {'anyOf': [{'type': 'string'}, {'type': 'null'}],\n",
              "   'default': None,\n",
              "   'title': 'Id'},\n",
              "  'example': {'default': False, 'title': 'Example', 'type': 'boolean'},\n",
              "  'tool_calls': {'default': [],\n",
              "   'items': {'$ref': '#/$defs/ToolCall'},\n",
              "   'title': 'Tool Calls',\n",
              "   'type': 'array'},\n",
              "  'invalid_tool_calls': {'default': [],\n",
              "   'items': {'$ref': '#/$defs/InvalidToolCall'},\n",
              "   'title': 'Invalid Tool Calls',\n",
              "   'type': 'array'},\n",
              "  'usage_metadata': {'anyOf': [{'$ref': '#/$defs/UsageMetadata'},\n",
              "    {'type': 'null'}],\n",
              "   'default': None}},\n",
              " 'required': ['content'],\n",
              " 'title': 'AIMessage',\n",
              " 'type': 'object'}"
            ]
          },
          "metadata": {},
          "execution_count": 38
        }
      ]
    },
    {
      "cell_type": "code",
      "source": [
        "# older way to give meassage to the model\n",
        "from langchain_core.messages import HumanMessage,SystemMessage\n",
        "from langchain_core.prompts import ChatPromptTemplate"
      ],
      "metadata": {
        "id": "NaS6LJGcShOf"
      },
      "execution_count": 39,
      "outputs": []
    },
    {
      "cell_type": "code",
      "source": [
        "messages = [\n",
        "    SystemMessage(content=\"you are an skincare expert for skin of colour.\"),\n",
        "    HumanMessage(content=\"tell me about what should be the skincare routine for the skin of colour.\"),\n",
        "\n",
        "]\n",
        "response = llm.invoke(messages)\n"
      ],
      "metadata": {
        "id": "ugeqwe5aTVR8"
      },
      "execution_count": 40,
      "outputs": []
    },
    {
      "cell_type": "code",
      "source": [
        "response"
      ],
      "metadata": {
        "colab": {
          "base_uri": "https://localhost:8080/"
        },
        "id": "RfDl5UcRTfK3",
        "outputId": "1fba39ce-6fb9-4d33-f4d4-10ff21531c4c"
      },
      "execution_count": 41,
      "outputs": [
        {
          "output_type": "execute_result",
          "data": {
            "text/plain": [
              "AIMessage(content='As a skincare expert for skin of color, I\\'m excited to share a comprehensive guide on creating an effective skincare routine tailored to the unique needs of skin of color.\\n\\n**Understanding Skin of Color:**\\n\\nSkin of color, which includes African American, Asian, Hispanic, and Indigenous skin, has distinct characteristics that require special care. These skin types tend to have:\\n\\n1. **More melanin**: Higher melanin content can make skin more prone to hyperpigmentation, dark spots, and uneven tone.\\n2. **Thicker skin**: Skin of color often has a thicker epidermis, which can make it more challenging for products to penetrate.\\n3. **Increased sensitivity**: Skin of color can be more reactive to products and environmental stressors, leading to irritation and inflammation.\\n4. **Specific concerns**: Skin of color is more likely to experience conditions like acne, hyperpigmentation, keloid scarring, and skin dryness.\\n\\n**Core Principles for a Skin of Color Skincare Routine:**\\n\\n1. **Gentle, non-irritating products**: Choose products labeled \"fragrance-free\" or \"hypoallergenic\" to minimize the risk of irritation.\\n2. **Moisturize, moisturize, moisturize**: Hydration is crucial for skin of color, as dryness can exacerbate hyperpigmentation and irritation.\\n3. **Sunscreen is essential**: Use a broad-spectrum sunscreen with at least SPF 30 daily, as darker skin tones are still susceptible to UV damage.\\n4. **Exfoliate carefully**: Gentle exfoliation is necessary to remove dead skin cells and promote cell turnover, but over-exfoliation can lead to irritation and post-inflammatory hyperpigmentation (PIH).\\n5. **Targeted treatments**: Address specific concerns like acne, hyperpigmentation, or dryness with products containing active ingredients like salicylic acid, vitamin C, or niacinamide.\\n\\n**Sample Skincare Routine for Skin of Color:**\\n\\n**Morning:**\\n\\n1. Cleanse: Use a gentle, non-foaming cleanser (e.g., Cetaphil Gentle Skin Cleanser) to remove dirt and impurities.\\n2. Toner: Apply a toner that balances the skin\\'s pH and helps with hydration (e.g., Thayers Rose Petal Witch Hazel).\\n3. Moisturize: Apply a lightweight, oil-free moisturizer with SPF 30 (e.g., Neutrogena Hydro Boost Water Gel).\\n4. Sunscreen: Apply a broad-spectrum sunscreen with at least SPF 30 (e.g., La Roche-Posay Anthelios Melt-In Sunscreen Milk).\\n\\n**Night:**\\n\\n1. Cleanse: Use a gentle cleanser (same as morning).\\n2. Exfoliate: 1-2 times a week, use a chemical exfoliant containing alpha-hydroxy acids (AHAs) or beta-hydroxy acids (BHAs) (e.g., Paula\\'s Choice 2% BHA Liquid).\\n3. Toner: Apply a toner that helps with skin brightening and hydration (e.g., Pixi Glow Tonic).\\n4. Treatment: Apply a treatment product containing active ingredients like vitamin C, niacinamide, or retinol to address specific concerns (e.g., Olay Regenerist Micro-Sculpting Cream).\\n5. Moisturize: Apply a rich, hydrating moisturizer to lock in the previous steps (e.g., CeraVe Moisturizing Cream).\\n\\n**Additional Tips:**\\n\\n1. **Be patient**: Skin of color may respond slower to skincare products, so be patient and consistent with your routine.\\n2. **Get enough sleep**: Poor sleep can exacerbate skin concerns like dark circles, puffiness, and hyperpigmentation.\\n3. **Stay hydrated**: Drink plenty of water to help flush out toxins and keep your skin hydrated from the inside out.\\n4. **Consult a dermatologist**: If you have specific skin concerns or questions, consult a dermatologist who specializes in skin of color for personalized guidance.\\n\\nBy following these principles and adapting the sample routine to your individual skin type and concerns, you\\'ll be well on your way to achieving healthy, radiant skin of color!', additional_kwargs={}, response_metadata={'token_usage': {'completion_tokens': 857, 'prompt_tokens': 40, 'total_tokens': 897, 'completion_time': 2.4485714290000002, 'prompt_time': 0.000868971, 'queue_time': 0.058279068999999996, 'total_time': 2.4494404}, 'model_name': 'llama3-70b-8192', 'system_fingerprint': 'fp_dd4ae1c591', 'finish_reason': 'stop', 'logprobs': None}, id='run-256caa11-060f-4644-83f9-a6c168145e40-0', usage_metadata={'input_tokens': 40, 'output_tokens': 857, 'total_tokens': 897})"
            ]
          },
          "metadata": {},
          "execution_count": 41
        }
      ]
    },
    {
      "cell_type": "code",
      "source": [
        "response.content"
      ],
      "metadata": {
        "colab": {
          "base_uri": "https://localhost:8080/",
          "height": 123
        },
        "id": "P2iZbzDGTgsx",
        "outputId": "20b11174-7ba0-4a0b-c2f6-789704b8a2ae"
      },
      "execution_count": 42,
      "outputs": [
        {
          "output_type": "execute_result",
          "data": {
            "text/plain": [
              "'As a skincare expert for skin of color, I\\'m excited to share a comprehensive guide on creating an effective skincare routine tailored to the unique needs of skin of color.\\n\\n**Understanding Skin of Color:**\\n\\nSkin of color, which includes African American, Asian, Hispanic, and Indigenous skin, has distinct characteristics that require special care. These skin types tend to have:\\n\\n1. **More melanin**: Higher melanin content can make skin more prone to hyperpigmentation, dark spots, and uneven tone.\\n2. **Thicker skin**: Skin of color often has a thicker epidermis, which can make it more challenging for products to penetrate.\\n3. **Increased sensitivity**: Skin of color can be more reactive to products and environmental stressors, leading to irritation and inflammation.\\n4. **Specific concerns**: Skin of color is more likely to experience conditions like acne, hyperpigmentation, keloid scarring, and skin dryness.\\n\\n**Core Principles for a Skin of Color Skincare Routine:**\\n\\n1. **Gentle, non-irritating products**: Choose products labeled \"fragrance-free\" or \"hypoallergenic\" to minimize the risk of irritation.\\n2. **Moisturize, moisturize, moisturize**: Hydration is crucial for skin of color, as dryness can exacerbate hyperpigmentation and irritation.\\n3. **Sunscreen is essential**: Use a broad-spectrum sunscreen with at least SPF 30 daily, as darker skin tones are still susceptible to UV damage.\\n4. **Exfoliate carefully**: Gentle exfoliation is necessary to remove dead skin cells and promote cell turnover, but over-exfoliation can lead to irritation and post-inflammatory hyperpigmentation (PIH).\\n5. **Targeted treatments**: Address specific concerns like acne, hyperpigmentation, or dryness with products containing active ingredients like salicylic acid, vitamin C, or niacinamide.\\n\\n**Sample Skincare Routine for Skin of Color:**\\n\\n**Morning:**\\n\\n1. Cleanse: Use a gentle, non-foaming cleanser (e.g., Cetaphil Gentle Skin Cleanser) to remove dirt and impurities.\\n2. Toner: Apply a toner that balances the skin\\'s pH and helps with hydration (e.g., Thayers Rose Petal Witch Hazel).\\n3. Moisturize: Apply a lightweight, oil-free moisturizer with SPF 30 (e.g., Neutrogena Hydro Boost Water Gel).\\n4. Sunscreen: Apply a broad-spectrum sunscreen with at least SPF 30 (e.g., La Roche-Posay Anthelios Melt-In Sunscreen Milk).\\n\\n**Night:**\\n\\n1. Cleanse: Use a gentle cleanser (same as morning).\\n2. Exfoliate: 1-2 times a week, use a chemical exfoliant containing alpha-hydroxy acids (AHAs) or beta-hydroxy acids (BHAs) (e.g., Paula\\'s Choice 2% BHA Liquid).\\n3. Toner: Apply a toner that helps with skin brightening and hydration (e.g., Pixi Glow Tonic).\\n4. Treatment: Apply a treatment product containing active ingredients like vitamin C, niacinamide, or retinol to address specific concerns (e.g., Olay Regenerist Micro-Sculpting Cream).\\n5. Moisturize: Apply a rich, hydrating moisturizer to lock in the previous steps (e.g., CeraVe Moisturizing Cream).\\n\\n**Additional Tips:**\\n\\n1. **Be patient**: Skin of color may respond slower to skincare products, so be patient and consistent with your routine.\\n2. **Get enough sleep**: Poor sleep can exacerbate skin concerns like dark circles, puffiness, and hyperpigmentation.\\n3. **Stay hydrated**: Drink plenty of water to help flush out toxins and keep your skin hydrated from the inside out.\\n4. **Consult a dermatologist**: If you have specific skin concerns or questions, consult a dermatologist who specializes in skin of color for personalized guidance.\\n\\nBy following these principles and adapting the sample routine to your individual skin type and concerns, you\\'ll be well on your way to achieving healthy, radiant skin of color!'"
            ],
            "application/vnd.google.colaboratory.intrinsic+json": {
              "type": "string"
            }
          },
          "metadata": {},
          "execution_count": 42
        }
      ]
    },
    {
      "cell_type": "code",
      "source": [
        "# structured output\n",
        "print(response.content)"
      ],
      "metadata": {
        "colab": {
          "base_uri": "https://localhost:8080/"
        },
        "id": "LDL9VKUFTisx",
        "outputId": "4a6cdc4d-f223-41d6-d4e7-ceaa48ff3fbc"
      },
      "execution_count": 43,
      "outputs": [
        {
          "output_type": "stream",
          "name": "stdout",
          "text": [
            "As a skincare expert for skin of color, I'm excited to share a comprehensive guide on creating an effective skincare routine tailored to the unique needs of skin of color.\n",
            "\n",
            "**Understanding Skin of Color:**\n",
            "\n",
            "Skin of color, which includes African American, Asian, Hispanic, and Indigenous skin, has distinct characteristics that require special care. These skin types tend to have:\n",
            "\n",
            "1. **More melanin**: Higher melanin content can make skin more prone to hyperpigmentation, dark spots, and uneven tone.\n",
            "2. **Thicker skin**: Skin of color often has a thicker epidermis, which can make it more challenging for products to penetrate.\n",
            "3. **Increased sensitivity**: Skin of color can be more reactive to products and environmental stressors, leading to irritation and inflammation.\n",
            "4. **Specific concerns**: Skin of color is more likely to experience conditions like acne, hyperpigmentation, keloid scarring, and skin dryness.\n",
            "\n",
            "**Core Principles for a Skin of Color Skincare Routine:**\n",
            "\n",
            "1. **Gentle, non-irritating products**: Choose products labeled \"fragrance-free\" or \"hypoallergenic\" to minimize the risk of irritation.\n",
            "2. **Moisturize, moisturize, moisturize**: Hydration is crucial for skin of color, as dryness can exacerbate hyperpigmentation and irritation.\n",
            "3. **Sunscreen is essential**: Use a broad-spectrum sunscreen with at least SPF 30 daily, as darker skin tones are still susceptible to UV damage.\n",
            "4. **Exfoliate carefully**: Gentle exfoliation is necessary to remove dead skin cells and promote cell turnover, but over-exfoliation can lead to irritation and post-inflammatory hyperpigmentation (PIH).\n",
            "5. **Targeted treatments**: Address specific concerns like acne, hyperpigmentation, or dryness with products containing active ingredients like salicylic acid, vitamin C, or niacinamide.\n",
            "\n",
            "**Sample Skincare Routine for Skin of Color:**\n",
            "\n",
            "**Morning:**\n",
            "\n",
            "1. Cleanse: Use a gentle, non-foaming cleanser (e.g., Cetaphil Gentle Skin Cleanser) to remove dirt and impurities.\n",
            "2. Toner: Apply a toner that balances the skin's pH and helps with hydration (e.g., Thayers Rose Petal Witch Hazel).\n",
            "3. Moisturize: Apply a lightweight, oil-free moisturizer with SPF 30 (e.g., Neutrogena Hydro Boost Water Gel).\n",
            "4. Sunscreen: Apply a broad-spectrum sunscreen with at least SPF 30 (e.g., La Roche-Posay Anthelios Melt-In Sunscreen Milk).\n",
            "\n",
            "**Night:**\n",
            "\n",
            "1. Cleanse: Use a gentle cleanser (same as morning).\n",
            "2. Exfoliate: 1-2 times a week, use a chemical exfoliant containing alpha-hydroxy acids (AHAs) or beta-hydroxy acids (BHAs) (e.g., Paula's Choice 2% BHA Liquid).\n",
            "3. Toner: Apply a toner that helps with skin brightening and hydration (e.g., Pixi Glow Tonic).\n",
            "4. Treatment: Apply a treatment product containing active ingredients like vitamin C, niacinamide, or retinol to address specific concerns (e.g., Olay Regenerist Micro-Sculpting Cream).\n",
            "5. Moisturize: Apply a rich, hydrating moisturizer to lock in the previous steps (e.g., CeraVe Moisturizing Cream).\n",
            "\n",
            "**Additional Tips:**\n",
            "\n",
            "1. **Be patient**: Skin of color may respond slower to skincare products, so be patient and consistent with your routine.\n",
            "2. **Get enough sleep**: Poor sleep can exacerbate skin concerns like dark circles, puffiness, and hyperpigmentation.\n",
            "3. **Stay hydrated**: Drink plenty of water to help flush out toxins and keep your skin hydrated from the inside out.\n",
            "4. **Consult a dermatologist**: If you have specific skin concerns or questions, consult a dermatologist who specializes in skin of color for personalized guidance.\n",
            "\n",
            "By following these principles and adapting the sample routine to your individual skin type and concerns, you'll be well on your way to achieving healthy, radiant skin of color!\n"
          ]
        }
      ]
    },
    {
      "cell_type": "code",
      "source": [
        "# streaming the output\n",
        "for chunk in llm.stream(messages):\n",
        "  print(chunk.content,end = \"\",flush = True)"
      ],
      "metadata": {
        "colab": {
          "base_uri": "https://localhost:8080/"
        },
        "id": "-vcdM2TsTrF7",
        "outputId": "ba0019f1-c2f4-43c1-c5d9-2da6217f3b16"
      },
      "execution_count": 44,
      "outputs": [
        {
          "output_type": "stream",
          "name": "stdout",
          "text": [
            "Wonderful question! As a skincare expert specializing in skin of color, I'm excited to share a comprehensive guide on creating an effective skincare routine tailored to the unique needs of darker skin tones.\n",
            "\n",
            "**Understanding Skin of Color:**\n",
            "\n",
            "Skin of color, also known as melanated skin, has a higher concentration of melanin, which provides natural protection against the sun. However, this also means that skin of color is more prone to hyperpigmentation, dark spots, and uneven tone. Additionally, skin of color often has a thicker stratum corneum (outer layer of skin), which can make it more challenging for products to penetrate.\n",
            "\n",
            "**Key Concerns:**\n",
            "\n",
            "1. **Hyperpigmentation**: Dark spots, uneven tone, and melasma are common concerns for skin of color.\n",
            "2. **Dryness**: Skin of color tends to be drier due to the natural barrier function of melanin, making it more prone to dryness and dehydration.\n",
            "3. **Sensitivity**: Skin of color can be more reactive to products, leading to irritation, redness, and inflammation.\n",
            "4. **Follicular Hyperkeratosis**: A condition characterized by rough, dark bumps on the skin, often seen on the arms, legs, and buttocks.\n",
            "\n",
            "**Skincare Routine for Skin of Color:**\n",
            "\n",
            "**Step 1: Cleanse**\n",
            "\n",
            "* Use a gentle, non-foaming cleanser (pH 5.5) that won't strip the skin of its natural oils.\n",
            "* Look for ingredients like glycerin, ceramides, or niacinamide, which help maintain the skin's natural barrier.\n",
            "* Avoid harsh exfoliants, such as salicylic acid or beta-hydroxy acids, which can be too abrasive for skin of color.\n",
            "\n",
            "**Step 2: Exfoliate (1-2 times a week)**\n",
            "\n",
            "* Use a chemical exfoliant containing alpha-hydroxy acids (AHAs) or enzyme-based exfoliants, which are gentler and more effective for skin of color.\n",
            "* Look for products containing ingredients like lactic acid, glycolic acid, or papain.\n",
            "\n",
            "**Step 3: Toner**\n",
            "\n",
            "* Use a toner that helps balance the skin's pH and provides an extra layer of hydration.\n",
            "* Look for ingredients like witch hazel, aloe vera, or rosewater.\n",
            "\n",
            "**Step 4: Essence**\n",
            "\n",
            "* An essence is a concentrated serum that delivers active ingredients to the skin.\n",
            "* Look for an essence containing antioxidants, vitamins, and plant extracts that address hyperpigmentation and dryness.\n",
            "\n",
            "**Step 5: Serum**\n",
            "\n",
            "* Use a serum that targets specific concerns, such as dark spots, uneven tone, or dryness.\n",
            "* Look for ingredients like vitamin C, niacinamide, or licorice extract, which have been shown to improve skin hyperpigmentation.\n",
            "\n",
            "**Step 6: Moisturize**\n",
            "\n",
            "* Use a moisturizer that provides long-lasting hydration and helps lock in previous steps.\n",
            "* Look for ingredients like hyaluronic acid, glycerin, or ceramides, which help maintain the skin's natural barrier.\n",
            "\n",
            "**Step 7: Sunscreen**\n",
            "\n",
            "* Use a broad-spectrum sunscreen with an SPF of at least 30, even on cloudy days.\n",
            "* Look for physical sunblocks like zinc oxide or titanium dioxide, which provide a physical barrier against UV rays.\n",
            "\n",
            "**Additional Tips:**\n",
            "\n",
            "* **Be gentle**: Avoid using harsh products or exfoliating too frequently, as this can lead to irritation and dryness.\n",
            "* **Stay hydrated**: Drink plenty of water to keep your skin hydrated from the inside out.\n",
            "* **Get enough sleep**: Aim for 7-8 hours of sleep to help your skin regenerate and repair itself.\n",
            "* **Manage stress**: High stress levels can lead to skin issues like acne, hyperpigmentation, and dryness.\n",
            "\n",
            "**Product Recommendations:**\n",
            "\n",
            "* Cleanser: Cetaphil Gentle Skin Cleanser or Neutrogena Hydrating Facial Cleanser\n",
            "* Exfoliant: Dermalogica Daily Microfoliant or Paula's Choice 2% BHA Liquid\n",
            "* Toner: Thayers Rose Petal Witch Hazel or Pixi Glow Tonic\n",
            "* Essence: Missha Time Revolution The First Treatment Essence or SK-II PITERA Essence\n",
            "* Serum: Olay Regenerist Micro-Sculpting Serum or La Roche-Posay Pigmentclar Eye Cream\n",
            "* Moisturizer: CeraVe Moisturizing Cream or Laneige Water Bank Moisturizing Cream\n",
            "* Sunscreen: La Roche-Posay Anthelios Melt-In Sunscreen Milk or EltaMD UV Clear Broad-Spectrum SPF 46\n",
            "\n",
            "Remember, everyone's skin is unique, so it may take some trial and error to find the right products and routine that work for your skin. Be patient, and don't hesitate to reach out to a dermatologist or skincare professional for personalized guidance."
          ]
        }
      ]
    },
    {
      "cell_type": "code",
      "source": [
        "# another old way for building model\n",
        "prompt = ChatPromptTemplate.from_messages(\n",
        "    [\n",
        "        (\n",
        "            \"system\",\n",
        "            \"you are a {profession} expert in {topic}.\",\n",
        "        ),\n",
        "        (\"human\",\"{input}\"),\n",
        "    ]\n",
        ")\n",
        "\n",
        "chain = prompt | llm\n",
        "\n",
        "response = chain.invoke(\n",
        "    {\n",
        "        \"profession\":\"skincare\",\n",
        "        \"topic\":\"skin of colour\",\n",
        "        \"input\":\"tell me about what should be the skincare routine for the skin of colour.\",\n",
        "    }\n",
        ")"
      ],
      "metadata": {
        "id": "7iQoGPtZUJuO"
      },
      "execution_count": 45,
      "outputs": []
    },
    {
      "cell_type": "code",
      "source": [
        "print(response.content)"
      ],
      "metadata": {
        "colab": {
          "base_uri": "https://localhost:8080/"
        },
        "id": "JkpFMSSTVUEg",
        "outputId": "2dbfa583-214e-4881-86b9-c75cd82be840"
      },
      "execution_count": 47,
      "outputs": [
        {
          "output_type": "stream",
          "name": "stdout",
          "text": [
            "As a skincare expert specializing in skin of color, I'm excited to share a comprehensive skincare routine that addresses the unique concerns and needs of darker skin tones.\n",
            "\n",
            "**Understanding Skin of Color:**\n",
            "\n",
            "Skin of color, which includes African, Asian, Latinx, and Indigenous skin, has some distinct characteristics that require tailored skincare approaches. These skin types tend to:\n",
            "\n",
            "1. Produce more melanin, which can lead to hyperpigmentation and dark spots.\n",
            "2. Be more prone to inflammation and skin conditions like acne, eczema, and rosacea.\n",
            "3. Have a thicker stratum corneum (outer skin layer), making it more challenging for products to penetrate.\n",
            "4. Be more susceptible to skin dryness and dehydration due to environmental factors and genetic predispositions.\n",
            "\n",
            "**Skincare Routine for Skin of Color:**\n",
            "\n",
            "To address these unique concerns, a skincare routine for skin of color should focus on the following steps:\n",
            "\n",
            "**Step 1: Cleanse**\n",
            "\n",
            "* Use a gentle, non-foaming cleanser (pH 5.5) that effectively removes dirt and makeup without stripping the skin of its natural oils.\n",
            "* Look for ingredients like glycerin, ceramides, or niacinamide, which help maintain the skin's barrier function.\n",
            "* Avoid harsh exfoliating cleansers or those containing sulfates, which can strip the skin of its natural oils.\n",
            "\n",
            "**Step 2: Exfoliate**\n",
            "\n",
            "* Exfoliate 1-2 times a week using a chemical exfoliant containing alpha-hydroxy acids (AHAs) like glycolic acid, lactic acid, or beta-hydroxy acids (BHAs) like salicylic acid.\n",
            "* These ingredients help break down dead skin cells, unclog pores, and improve skin texture and tone.\n",
            "* Avoid physical exfoliants like scrubs or brushes, which can cause micro-tearing and irritation.\n",
            "\n",
            "**Step 3: Toner**\n",
            "\n",
            "* Use a toner that helps balance the skin's pH, remove any remaining dirt or impurities, and prepare the skin for further product absorption.\n",
            "* Look for toners containing witch hazel, rosewater, or aloe vera, which have anti-inflammatory and soothing properties.\n",
            "\n",
            "**Step 4: Essence**\n",
            "\n",
            "* An essence is a concentrated serum that delivers active ingredients to the skin.\n",
            "* Look for essences containing niacinamide, vitamin C, or licorice extract, which help brighten and even out skin tone, reduce hyperpigmentation, and improve skin elasticity.\n",
            "\n",
            "**Step 5: Serum**\n",
            "\n",
            "* Use a serum that targets specific skin concerns like acne, dark spots, or fine lines and wrinkles.\n",
            "* Look for serums containing ingredients like retinol, vitamin C, or hydroquinone, which help address these concerns.\n",
            "\n",
            "**Step 6: Eye Care**\n",
            "\n",
            "* The skin around the eyes is delicate and requires gentle, targeted care.\n",
            "* Use an eye cream or serum containing ingredients like caffeine, peptides, or vitamin K, which help reduce puffiness, dark circles, and fine lines.\n",
            "\n",
            "**Step 7: Moisturize**\n",
            "\n",
            "* Use a moisturizer that provides long-lasting hydration, protects the skin from environmental stressors, and supports the skin's natural barrier function.\n",
            "* Look for moisturizers containing ingredients like hyaluronic acid, glycerin, or ceramides, which help lock in moisture and support the skin's natural barrier function.\n",
            "\n",
            "**Step 8: Sunscreen**\n",
            "\n",
            "* Use a broad-spectrum sunscreen with an SPF of at least 30, applied daily, even on cloudy days.\n",
            "* Look for sunscreens containing ingredients like zinc oxide, titanium dioxide, or avobenzone, which provide physical and chemical sun protection.\n",
            "\n",
            "**Additional Tips:**\n",
            "\n",
            "* Be gentle: Avoid harsh products, exfoliating too frequently, or using hot water, which can strip the skin of its natural oils.\n",
            "* Stay hydrated: Drink plenty of water to keep your skin hydrated from the inside out.\n",
            "* Protect your skin from the environment: Avoid pollution, smoke, and extreme temperatures, which can cause skin damage and inflammation.\n",
            "\n",
            "By following this skincare routine and tailoring it to your individual skin concerns and needs, you can achieve healthier, more radiant skin that glows from within!\n"
          ]
        }
      ]
    },
    {
      "cell_type": "code",
      "source": [
        "# prompt and prompt templates\n",
        "from langchain_core.prompts import PromptTemplate\n",
        "\n",
        "prompt = PromptTemplate.from_template(\n",
        "    \"tell me a {adjective} story about {topic}.\"\n",
        ")\n",
        "\n",
        "llmModelPrompt = prompt.format(adjective = \"struggling\",topic = \"modi ji\")\n",
        "response = llm.invoke(llmModelPrompt)"
      ],
      "metadata": {
        "id": "WGzaCaHXVWyq"
      },
      "execution_count": 49,
      "outputs": []
    },
    {
      "cell_type": "code",
      "source": [
        "print(response.content)"
      ],
      "metadata": {
        "colab": {
          "base_uri": "https://localhost:8080/"
        },
        "id": "qv3vxCv9c-ac",
        "outputId": "2f708192-bd8f-4a63-d5e9-5681244b29cc"
      },
      "execution_count": 50,
      "outputs": [
        {
          "output_type": "stream",
          "name": "stdout",
          "text": [
            "Here's a struggling story about Narendra Damodardas Modi, the 14th Prime Minister of India:\n",
            "\n",
            "**The Early Struggles**\n",
            "\n",
            "Narendra Modi was born on September 17, 1950, in Vadnagar, a small town in Gujarat, India. He was the third of six children born to Damodardas Mulchand Modi and Hiraben Modi. His family lived in a small, one-room house with no electricity or running water.\n",
            "\n",
            "Modi's childhood was marked by poverty and hardship. His father, a small-time businessman, struggled to make ends meet, and the family often went to bed hungry. Modi's mother, Hiraben, worked as a laborer to supplement the family's income.\n",
            "\n",
            "**The Tea Stall Days**\n",
            "\n",
            "To support his family, Modi started helping his father at a small tea stall in Vadnagar railway station when he was just eight years old. He would wake up at 4 am every day to help his father prepare tea and sell it to passengers. This experience taught Modi the value of hard work and entrepreneurship.\n",
            "\n",
            "However, Modi's education suffered due to his family's financial struggles. He had to drop out of school in the eighth grade to focus on the tea stall. Despite this, Modi was determined to educate himself. He would often visit the local library to read books and newspapers.\n",
            "\n",
            "**The RSS Connection**\n",
            "\n",
            "In 1967, Modi came into contact with the Rashtriya Swayamsevak Sangh (RSS), a Hindu nationalist organization. The RSS ideology and its emphasis on discipline, hard work, and service to the nation resonated with Modi. He became an active member of the RSS and began to participate in its activities.\n",
            "\n",
            "**The Struggle for Survival**\n",
            "\n",
            "In 1971, Modi's family was forced to leave their home in Vadnagar due to a severe flood. They had to take shelter in a relief camp, where Modi witnessed the struggles of the people firsthand. This experience deepened his commitment to serving the nation.\n",
            "\n",
            "**The Gujarat Struggle**\n",
            "\n",
            "In the 1980s, Modi became involved in politics, joining the Bharatiya Janata Party (BJP). He worked tirelessly to build the party's organization in Gujarat, often facing opposition and criticism from rival parties.\n",
            "\n",
            "In 1995, Modi was appointed the General Secretary of the BJP in Gujarat. He played a key role in the party's victory in the 1995 state assembly elections. However, his rise to power was not without challenges. He faced opposition from within the party and was even forced to go into hiding for a brief period due to threats from rival factions.\n",
            "\n",
            "**The Chief Minister of Gujarat**\n",
            "\n",
            "In 2001, Modi became the Chief Minister of Gujarat, a position he held for 13 years. During his tenure, he implemented several reforms and development projects, which transformed the state's economy and infrastructure.\n",
            "\n",
            "However, Modi's time as Chief Minister was also marked by controversy, including the Gujarat riots of 2002, which resulted in the deaths of over 1,000 people, mostly Muslims. Modi was criticized for his handling of the situation, and his government was accused of complicity in the violence.\n",
            "\n",
            "**The Rise to Prime Ministership**\n",
            "\n",
            "Despite the controversies, Modi's popularity in Gujarat and his development work in the state propelled him to the national stage. In 2014, he led the BJP to a landslide victory in the Lok Sabha elections, becoming the Prime Minister of India.\n",
            "\n",
            "Today, Modi is one of India's most popular and influential leaders, known for his strong leadership, economic reforms, and nationalistic policies. His rags-to-riches story is an inspiration to millions of Indians, and his struggles have made him a stronger and more resilient leader.\n",
            "\n",
            "I hope you enjoyed this struggling story about Modi ji!\n"
          ]
        }
      ]
    },
    {
      "cell_type": "code",
      "source": [
        "from langchain_core.prompts import ChatPromptTemplate\n",
        "\n",
        "chat_template = ChatPromptTemplate.from_messages(\n",
        "    [\n",
        "        (\"system\",\"you are a {profession} expert in {topic}.\"),\n",
        "        (\"human\",\"hello! can you please answer my query?\"),\n",
        "        (\"ai\",\"Sure! why not.\"),\n",
        "        (\"human\",\"{user_input}\"),\n",
        "    ]\n",
        ")\n",
        "\n",
        "messages = chat_template.format_messages(\n",
        "    profession = \"skincare\",\n",
        "    topic = \"dry sensitive skin\",\n",
        "    user_input = \" please tell me about what should be the skincare routine for sensitive skin and what precautions need to take\"\n",
        ")\n",
        "response  = llm.invoke(messages)"
      ],
      "metadata": {
        "id": "5xUxnUf5dFY0"
      },
      "execution_count": 51,
      "outputs": []
    },
    {
      "cell_type": "code",
      "source": [
        "print(response.content)"
      ],
      "metadata": {
        "colab": {
          "base_uri": "https://localhost:8080/"
        },
        "id": "5ERQalDwfID6",
        "outputId": "778b6c8d-18c6-4db6-fd0c-84a1fc30b636"
      },
      "execution_count": 52,
      "outputs": [
        {
          "output_type": "stream",
          "name": "stdout",
          "text": [
            "As a skincare expert specializing in dry and sensitive skin, I'd be happy to guide you on a gentle and effective skincare routine.\n",
            "\n",
            "**Understanding Sensitive Skin:**\n",
            "Sensitive skin is a common concern, characterized by redness, itching, stinging, or burning sensations in response to certain products or environmental factors. It's essential to identify your skin type and triggers to create a personalized routine.\n",
            "\n",
            "**Skincare Routine for Sensitive Skin:**\n",
            "\n",
            "1. **Cleanse:** Use a gentle, fragrance-free cleanser (pH balanced, around 5.5) that effectively removes dirt and makeup without stripping the skin of its natural oils. Look for ingredients like glycerin, ceramides, or niacinamide. Recommended cleansers:\n",
            "\t* Cetaphil Gentle Skin Cleanser\n",
            "\t* Neutrogena Hydrating Facial Cleanser\n",
            "\t* La Roche-Posay Toleriane Ultra Fluid Face Wash\n",
            "2. **Tone:** A toner helps balance the skin's pH and removes any remaining impurities. Opt for a gentle, non-irritating toner with soothing ingredients like aloe vera, witch hazel, or rosewater. Recommended toners:\n",
            "\t* Thayers Rose Petal Witch Hazel\n",
            "\t* Pixi Glow Tonic (fragrance-free)\n",
            "\t* Avene Thermal Water Spray\n",
            "3. **Exfoliate:** Exfoliating 1-2 times a week helps remove dead skin cells and unclog pores. Use a gentle, chemical-based exfoliant containing alpha-hydroxy acids (AHAs) or beta-hydroxy acids (BHAs). Recommended exfoliants:\n",
            "\t* Paula's Choice 2% BHA Liquid Acid\n",
            "\t* Dermalogica Daily Microfoliant\n",
            "\t* The Ordinary Glycolic Acid 7% Toning Solution\n",
            "4. **Essence:** An essence is a concentrated serum that delivers active ingredients to the skin. Look for essences containing soothing ingredients like hyaluronic acid, glycerin, or green tea. Recommended essences:\n",
            "\t* Missha Time Revolution The First Treatment Essence\n",
            "\t* SK-II PITERA Essence\n",
            "\t* Dr. Jart+ Dermaclar Clearing Solution\n",
            "5. **Serum:** Serums provide concentrated doses of active ingredients. For sensitive skin, opt for serums with anti-inflammatory and soothing properties. Recommended serums:\n",
            "\t* La Roche-Posay Pigmentclar Eye Cream (also suitable for the face)\n",
            "\t* Neutrogena Hydro Boost Water Gel\n",
            "\t* Cetaphil Moisturizing Cream\n",
            "6. **Moisturize:** Use a gentle, non-comedogenic moisturizer that provides long-lasting hydration and helps repair the skin's barrier function. Look for ingredients like hyaluronic acid, ceramides, or niacinamide. Recommended moisturizers:\n",
            "\t* Cetaphil Moisturizing Cream\n",
            "\t* Neutrogena Hydro Boost Water Gel\n",
            "\t* La Roche-Posay Toleriane Ultra Fluid\n",
            "\n",
            "**Precautions to Take:**\n",
            "\n",
            "1. **Patch Test:** Always patch test new products on a small area of your skin (behind the ear or on the wrist) for 24-48 hours to ensure you don't have any adverse reactions.\n",
            "2. **Avoid Irritants:** Steer clear of products containing harsh ingredients like artificial fragrances, dyes, or exfoliating particles that can exacerbate sensitivity.\n",
            "3. **Be Gentle:** Avoid using hot water, rough washcloths, or exfoliating gloves, which can strip the skin of its natural oils and cause irritation.\n",
            "4. **Use Sunscreen:** Apply a broad-spectrum sunscreen with an SPF of at least 30 daily, even on cloudy days, to protect your skin from UV damage.\n",
            "5. **Avoid Over-Exfoliating:** Limit exfoliation to 1-2 times a week, as over-exfoliating can lead to irritation, dryness, and increased sensitivity.\n",
            "6. **Stay Hydrated:** Drink plenty of water to keep your skin hydrated from the inside out.\n",
            "7. **Consult a Dermatologist:** If you experience persistent skin concerns or severe reactions, consult a dermatologist for personalized guidance.\n",
            "\n",
            "Remember, everyone's skin is unique, so it may take some trial and error to find the right products and routine that work for your sensitive skin. Be patient, and don't hesitate to reach out if you have any further questions or concerns!\n"
          ]
        }
      ]
    },
    {
      "cell_type": "code",
      "source": [
        "# old way for prompting\n",
        "from langchain_core.messages import SystemMessage\n",
        "from langchain_core.prompts import HumanMessagePromptTemplate\n",
        "\n",
        "chat_template = ChatPromptTemplate.from_messages(\n",
        "    [\n",
        "        SystemMessage(\n",
        "            content = \"you are a expert in skincare trends.\"\n",
        "        ),\n",
        "        HumanMessagePromptTemplate.from_template(\"{user_input}\")\n",
        "    ]\n",
        ")\n",
        "\n",
        "messages = chat_template.format_messages(\n",
        "    user_input = \" what should be the skincare for a oily skin?\"\n",
        ")\n",
        "response = llm.invoke(messages)"
      ],
      "metadata": {
        "id": "Glo5pPFXfLcI"
      },
      "execution_count": 53,
      "outputs": []
    },
    {
      "cell_type": "code",
      "source": [
        "print(response.content)"
      ],
      "metadata": {
        "colab": {
          "base_uri": "https://localhost:8080/"
        },
        "id": "_NoWcDyOgxlz",
        "outputId": "13c86e94-9831-4a87-93d1-2c3b3f7c5a32"
      },
      "execution_count": 54,
      "outputs": [
        {
          "output_type": "stream",
          "name": "stdout",
          "text": [
            "As an expert in skincare trends, I'd be happy to help you with a customized skincare routine for oily skin.\n",
            "\n",
            "**Understanding Oily Skin:**\n",
            "Oily skin is characterized by excess sebum production, which can lead to clogged pores, blackheads, and acne. It's essential to control sebum production, reduce inflammation, and maintain a balanced skin pH to achieve a healthy, radiant complexion.\n",
            "\n",
            "**Step-by-Step Skincare Routine for Oily Skin:**\n",
            "\n",
            "1. **Cleanse:** Use a gentle, non-comedogenic cleanser that effectively removes dirt and excess oil without stripping the skin of its natural moisture. Look for a cleanser containing salicylic acid (BHA) or glycolic acid (AHA), which helps to exfoliate and unclog pores.\n",
            "\t* Recommended product: Neutrogena Hydrating Facial Cleanser or Paula's Choice 2% BHA Liquid Exfoliant\n",
            "2. **Tone:** Use a toner that helps to balance the skin's pH, reduce pores, and control sebum production. Look for a toner containing witch hazel, tea tree oil, or aloe vera.\n",
            "\t* Recommended product: Thayers Rose Petal Witch Hazel or Pixi Glow Tonic\n",
            "3. **Exfoliate:** Exfoliate 1-2 times a week to remove dead skin cells, unclog pores, and reduce inflammation. Use a chemical exfoliant containing alpha-hydroxy acids (AHAs) or beta-hydroxy acids (BHAs).\n",
            "\t* Recommended product: Dermalogica Daily Microfoliant or The Ordinary Glycolic Acid 7% Toning Solution\n",
            "4. **Essence:** Apply an essence that helps to deliver active ingredients, hydrate, and balance the skin. Look for an essence containing hyaluronic acid, vitamin C, or niacinamide.\n",
            "\t* Recommended product: Missha Time Revolution The First Treatment Essence or SK-II PITERA Essence\n",
            "5. **Serum:** Use a lightweight, oil-free serum that targets specific concerns such as acne, dark spots, or fine lines. Look for a serum containing salicylic acid, niacinamide, or vitamin C.\n",
            "\t* Recommended product: Olay Regenerist Micro-Sculpting Serum or Dr. Dennis Gross Skincare C+ Collagen Brighten and Firm Serum\n",
            "6. **Moisturize:** Apply a lightweight, oil-free moisturizer that helps to control sebum production, hydrate, and protect the skin. Look for a moisturizer containing hyaluronic acid, ceramides, or niacinamide.\n",
            "\t* Recommended product: Neutrogena Hydro Boost Water Gel or La Roche-Posay Toleriane Ultra Fluid\n",
            "7. **Sunscreen:** Apply a broad-spectrum sunscreen with an SPF of at least 30, even on cloudy days. Look for a lightweight, oil-free sunscreen that won't clog pores.\n",
            "\t* Recommended product: EltaMD UV Clear Broad-Spectrum SPF 46 or La Roche-Posay Anthelios Melt-In Sunscreen Milk\n",
            "\n",
            "**Additional Tips:**\n",
            "\n",
            "* Use a clay-based mask 1-2 times a week to absorb excess oil and purify the skin.\n",
            "* Avoid heavy, oil-based products that can exacerbate oily skin.\n",
            "* Keep your hands away from your face to prevent bacteria and oil from transferring to your skin.\n",
            "* Stay hydrated by drinking plenty of water to flush out toxins and maintain healthy skin.\n",
            "\n",
            "By following this customized skincare routine, you'll be able to control sebum production, reduce acne, and achieve a healthy, radiant complexion.\n"
          ]
        }
      ]
    },
    {
      "cell_type": "code",
      "source": [
        "# few shot prompting using FewShotChatMessagePromptTemplate\n",
        "from langchain_core.prompts import FewShotChatMessagePromptTemplate\n",
        "examples = [\n",
        "    {\"input\":\"hi!\", \"output\":\"hola!\"},\n",
        "    {\"input\":\"bye!\", \"output\":\"adios!\"},\n",
        "]\n",
        "\n",
        "example_prompt = ChatPromptTemplate.from_messages(\n",
        "    [\n",
        "        (\"human\",\"{input}\"),\n",
        "        (\"ai\",\"{output}\"),\n",
        "    ]\n",
        ")\n",
        "\n",
        "few_shot_prompt = FewShotChatMessagePromptTemplate(\n",
        "    example_prompt = example_prompt,\n",
        "    examples = examples,\n",
        ")\n",
        "\n",
        "final_prompt = ChatPromptTemplate.from_messages(\n",
        "    [\n",
        "        (\"system\",\"you are a skincare influencer.\"),\n",
        "        few_shot_prompt,\n",
        "        (\"human\",\"{input}\"),\n",
        "    ]\n",
        "\n",
        ")"
      ],
      "metadata": {
        "id": "Kzis3wO3g1ec"
      },
      "execution_count": 55,
      "outputs": []
    },
    {
      "cell_type": "code",
      "source": [
        "# chain\n",
        "chain = final_prompt | llm\n",
        "\n",
        "response = chain.invoke({\"input\":\"tell me ingredients best for all skin types\"})"
      ],
      "metadata": {
        "id": "uCkFdygwlJ8k"
      },
      "execution_count": 57,
      "outputs": []
    },
    {
      "cell_type": "code",
      "source": [
        "print(response.content)"
      ],
      "metadata": {
        "colab": {
          "base_uri": "https://localhost:8080/"
        },
        "id": "ZfutFd_Qnmsc",
        "outputId": "ea80a57b-dd2f-4eec-a881-385a1b7f536f"
      },
      "execution_count": 58,
      "outputs": [
        {
          "output_type": "stream",
          "name": "stdout",
          "text": [
            "As a skincare influencer, I'm happy to share with you the top ingredients that are suitable for ALL skin types, whether you have normal, dry, oily, combination, sensitive, or acne-prone skin!\n",
            "\n",
            "Here are the superstar ingredients that are gentle, effective, and beneficial for everyone:\n",
            "\n",
            "1. **Hyaluronic Acid**: A natural humectant that attracts and retains moisture, leaving skin feeling soft, supple, and hydrated.\n",
            "2. **Glycerin**: A gentle humectant that helps lock in moisture, reduce irritation, and soothe dryness.\n",
            "3. **Niacinamide**: A form of Vitamin B3 that improves skin elasticity, reduces inflammation, and enhances skin barrier function.\n",
            "4. **Vitamin C**: A powerful antioxidant that brightens, protects, and boosts collagen production for a more radiant complexion.\n",
            "5. **Ceramides**: Natural lipids that repair and restore the skin's barrier function, reducing dryness and irritation.\n",
            "6. **Green Tea Extract**: A calming antioxidant that soothes and protects skin from environmental stressors and inflammation.\n",
            "7. **Squalane**: A natural moisturizer that hydrates and nourishes skin, leaving it feeling soft and supple.\n",
            "8. **Aloe Vera**: A soothing ingredient that calms and cools skin, reducing redness and inflammation.\n",
            "9. **Ferulic Acid**: A natural antioxidant that neutralizes free radicals, protecting skin from environmental damage.\n",
            "10. **Licorice Extract**: A gentle ingredient that soothes and calms skin, reducing inflammation and hyperpigmentation.\n",
            "\n",
            "These ingredients are all about promoting healthy, happy skin that glows from within! When used in combination, they can help address a range of skin concerns, from dryness and dullness to sensitivity and acne.\n",
            "\n",
            "Which of these ingredients do you already use in your skincare routine?\n"
          ]
        }
      ]
    },
    {
      "cell_type": "code",
      "source": [
        "## output parser\n",
        "from langchain_core.prompts import PromptTemplate\n",
        "from langchain.output_parsers.json import SimpleJsonOutputParser\n",
        "\n",
        "json_prompt = PromptTemplate.from_template(\n",
        "    \"return a JSON object with an 'answer' key that answers the following questions: {questions}.\"\n",
        ")\n",
        "\n",
        "json_parser = SimpleJsonOutputParser()\n",
        "\n",
        "json_chain = json_prompt |llm |json_parser\n"
      ],
      "metadata": {
        "id": "eFcTf6K5nqzn"
      },
      "execution_count": 59,
      "outputs": []
    },
    {
      "cell_type": "code",
      "source": [
        "json_parser.get_format_instructions()"
      ],
      "metadata": {
        "colab": {
          "base_uri": "https://localhost:8080/",
          "height": 36
        },
        "id": "xkSV3C5nrYgo",
        "outputId": "b76bf7fc-1cb9-4e54-94d6-70b1add60e63"
      },
      "execution_count": 60,
      "outputs": [
        {
          "output_type": "execute_result",
          "data": {
            "text/plain": [
              "'Return a JSON object.'"
            ],
            "application/vnd.google.colaboratory.intrinsic+json": {
              "type": "string"
            }
          },
          "metadata": {},
          "execution_count": 60
        }
      ]
    },
    {
      "cell_type": "code",
      "source": [
        "response = json_chain.invoke({\"questions\":\"which is star ingredient in skincare?\"})"
      ],
      "metadata": {
        "id": "wZK-M3Barhc3"
      },
      "execution_count": 64,
      "outputs": []
    },
    {
      "cell_type": "code",
      "source": [
        "print(response[\"answer\"])"
      ],
      "metadata": {
        "colab": {
          "base_uri": "https://localhost:8080/"
        },
        "id": "WDyU3vjkrs2Q",
        "outputId": "02bd2ede-854b-4df3-9011-9a4c9de2b34d"
      },
      "execution_count": 68,
      "outputs": [
        {
          "output_type": "stream",
          "name": "stdout",
          "text": [
            "Hydroxyacids (AHAs/BHAs) are often considered star ingredients in skincare, but Retinol is generally considered the gold standard due to its ability to stimulate collagen production, reduce fine lines and wrinkles, and improve skin texture and tone. However, other popular star ingredients in skincare include Vitamin C, Niacinamide, and Peptides, which all have unique benefits and can be used to address various skin concerns.\n"
          ]
        }
      ]
    },
    {
      "cell_type": "code",
      "source": [],
      "metadata": {
        "id": "rlUDXv7ux8ha"
      },
      "execution_count": null,
      "outputs": []
    }
  ]
}